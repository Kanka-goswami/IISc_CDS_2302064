{
  "nbformat": 4,
  "nbformat_minor": 0,
  "metadata": {
    "colab": {
      "provenance": [],
      "include_colab_link": true
    },
    "kernelspec": {
      "display_name": "Python 3",
      "language": "python",
      "name": "python3"
    },
    "language_info": {
      "codemirror_mode": {
        "name": "ipython",
        "version": 3
      },
      "file_extension": ".py",
      "mimetype": "text/x-python",
      "name": "python",
      "nbconvert_exporter": "python",
      "pygments_lexer": "ipython3",
      "version": "3.8.5"
    }
  },
  "cells": [
    {
      "cell_type": "markdown",
      "metadata": {
        "id": "view-in-github",
        "colab_type": "text"
      },
      "source": [
        "<a href=\"https://colab.research.google.com/github/Kanka-goswami/IISc_CDS_2302064/blob/main/27Jan'24_M1_NB_MiniProject_2.ipynb\" target=\"_parent\"><img src=\"https://colab.research.google.com/assets/colab-badge.svg\" alt=\"Open In Colab\"/></a>"
      ]
    },
    {
      "cell_type": "markdown",
      "metadata": {
        "id": "Vf7UdufgUVRm"
      },
      "source": [
        "# Advanced Certification Program in Computational Data Science\n",
        "## A program by IISc and TalentSprint\n",
        "### Mini Project Notebook: Linear Algebra and Calculus"
      ]
    },
    {
      "cell_type": "markdown",
      "metadata": {
        "id": "TnGEuHJusOup"
      },
      "source": [
        "## Problem Statement"
      ]
    },
    {
      "cell_type": "markdown",
      "metadata": {
        "id": "xlkm2qM2sQ-T"
      },
      "source": [
        " The task is to advise a petroleum company on how to meet the demands of their customers for motor oil, diesel oil and gasoline."
      ]
    },
    {
      "cell_type": "markdown",
      "metadata": {
        "id": "cs0B3ScgUVRv"
      },
      "source": [
        "## Learning Objectives"
      ]
    },
    {
      "cell_type": "markdown",
      "metadata": {
        "id": "Sq5piVQRUVRw"
      },
      "source": [
        "At the end of the experiment, you will be able to\n",
        "\n",
        "* create arrays and matrices in python\n",
        "* understand the concepts of linear equations\n",
        "* solve the system of linear equations"
      ]
    },
    {
      "cell_type": "markdown",
      "metadata": {
        "id": "IvKa0MVttqXf"
      },
      "source": [
        "### Data"
      ]
    },
    {
      "cell_type": "markdown",
      "metadata": {
        "id": "dRrGFyZOtsAj"
      },
      "source": [
        "From a barrel of crude oil, in one day, factory $A$ can produce\n",
        "* 20 gallons of motor oil,\n",
        "* 10 gallons of diesel oil, and\n",
        "* 5 gallons of gasoline\n",
        "\n",
        "Similarly, factory $B$ can produce\n",
        "* 4 gallons of motor oil,\n",
        "* 14 gallons of diesel oil, and\n",
        "* 5 gallons of gasoline\n",
        "\n",
        "while factory $C$ can produce\n",
        "* 4 gallons of motor oil,\n",
        "* 5 gallons of diesel oil, and\n",
        "* 12 gallons of gasoline\n",
        "\n",
        "There is also waste in the form of paraffin, among other things. Factory $A$ has 3 gallons of paraffin to dispose of per barrel of crude, factory $B$ 5 gallons, and factory $C$ 2 gallons."
      ]
    },
    {
      "cell_type": "markdown",
      "metadata": {
        "id": "UK_englE4HnA"
      },
      "source": [
        "**Note:** Your conclusion should include a discussion of the nature of the terms *unique*, *no solution*, *overdetermined* and *underdetermined* as they apply in the context of the oil plants."
      ]
    },
    {
      "cell_type": "markdown",
      "metadata": {
        "id": "operating-latter"
      },
      "source": [
        "## Grading = 10 Points"
      ]
    },
    {
      "cell_type": "markdown",
      "metadata": {
        "id": "zAitCztdraex"
      },
      "source": [
        "### Create an array\n",
        "\n",
        "Create an array of size 2x3 with arbitrary values."
      ]
    },
    {
      "cell_type": "code",
      "metadata": {
        "id": "owKFXLLzrqVb",
        "colab": {
          "base_uri": "https://localhost:8080/"
        },
        "outputId": "5c7c18d9-4527-45cb-f4d5-e09934a48b6c"
      },
      "source": [
        "# YOUR CODE HERE\n",
        "import numpy as np\n",
        "a = np.array([[1, 2, 3],\n",
        "              [4, 5, 6]])\n",
        "a"
      ],
      "execution_count": 64,
      "outputs": [
        {
          "output_type": "execute_result",
          "data": {
            "text/plain": [
              "array([[1, 2, 3],\n",
              "       [4, 5, 6]])"
            ]
          },
          "metadata": {},
          "execution_count": 64
        }
      ]
    },
    {
      "cell_type": "markdown",
      "metadata": {
        "id": "K_7EztnGvzDK"
      },
      "source": [
        "### Create the system of Linear Equations"
      ]
    },
    {
      "cell_type": "markdown",
      "metadata": {
        "id": "zL9M9kmrv_ZA"
      },
      "source": [
        "Suppose the current daily demand from distributors is 6600 gallons of motor oil, 5100 gallons of diesel oil and 3100 of gasoline.\n",
        "\n",
        "Set up the system of equations which describes the above situation. Please include the units as well."
      ]
    },
    {
      "cell_type": "markdown",
      "metadata": {
        "id": "nbOcii0EZpUI"
      },
      "source": [
        "Let the number of barrels used by factory $A$, $B$ and $C$ are $x$, $y$ and $z$ respectively.\n",
        "\n",
        "Then the system of linear equations will be\n",
        "\n",
        "$$Motor\\ oil:\\ \\ \\ 20x + 4y + 4z = 6600$$\n",
        "\n",
        "$$Diesel\\ oil:\\ \\ \\ 10x + 14y + 5z = 5100$$\n",
        "\n",
        "$$Gasoline:\\ \\ \\ 5x + 5y + 12z = 3100$$"
      ]
    },
    {
      "cell_type": "markdown",
      "metadata": {
        "id": "1qLF2LvG2I8Y"
      },
      "source": [
        "### Solve the system of Linear Equation (2 points)"
      ]
    },
    {
      "cell_type": "markdown",
      "metadata": {
        "id": "FzjOkaq21_8L"
      },
      "source": [
        "How many barrels of crude oil each plant should get in order to meet the demand as a group. Remember that we can only provide each plant with an integral number of barrels."
      ]
    },
    {
      "cell_type": "code",
      "metadata": {
        "id": "Plx-kStlcGOW",
        "colab": {
          "base_uri": "https://localhost:8080/"
        },
        "outputId": "d8027631-3b10-4a48-9114-ca3d339e47c8"
      },
      "source": [
        "# YOUR CODE HERE\n",
        "from scipy.linalg import solve\n",
        "A = np.array([[20, 4, 4],\n",
        "              [10, 14, 5],\n",
        "              [5, 5, 12]])\n",
        "b = np.array([6600, 5100, 3100])\n",
        "X1 = solve(A,b)\n",
        "print(X1)\n",
        "print(np.ceil(X1))"
      ],
      "execution_count": 65,
      "outputs": [
        {
          "output_type": "stream",
          "name": "stdout",
          "text": [
            "[287.25 128.75  85.  ]\n",
            "[288. 129.  85.]\n"
          ]
        }
      ]
    },
    {
      "cell_type": "markdown",
      "source": [
        "**INFERENCE:** *Therefore, the number of barrels required by factory A,B and C are 288, 129 and 85 respectively*"
      ],
      "metadata": {
        "id": "r9yLezDzYhS8"
      }
    },
    {
      "cell_type": "markdown",
      "metadata": {
        "id": "nY-rFiKAbVl3"
      },
      "source": [
        "Suppose the total demand for all products **doubled**. What would the solution now be? How does it compare to the original solution? Why, mathematically, should this have been expected?"
      ]
    },
    {
      "cell_type": "code",
      "metadata": {
        "id": "OODSS2bFcjKV",
        "colab": {
          "base_uri": "https://localhost:8080/"
        },
        "outputId": "937199b8-76c8-48c3-8eb6-d5a50999b8dc"
      },
      "source": [
        "# YOUR CODE HERE\n",
        "A = np.array([[20, 4, 4],\n",
        "              [10, 14, 5],\n",
        "              [5, 5, 12]])\n",
        "b = np.array([6600 * 2, 5100 * 2, 3100 * 2])\n",
        "X2 = solve(A,b)\n",
        "X2"
      ],
      "execution_count": 66,
      "outputs": [
        {
          "output_type": "execute_result",
          "data": {
            "text/plain": [
              "array([574.5, 257.5, 170. ])"
            ]
          },
          "metadata": {},
          "execution_count": 66
        }
      ]
    },
    {
      "cell_type": "markdown",
      "source": [
        "**INFERENCE:** *From above it can be seen that as the demand doubled the number of barrels required also gets doubled.*\n",
        "\n"
      ],
      "metadata": {
        "id": "AkSiegKb4y36"
      }
    },
    {
      "cell_type": "markdown",
      "source": [
        "- Demand column $b$  if **doubled**  \n",
        "$$\n",
        "b' = 2*b \\\\\n",
        "\\Rightarrow 2*\\textbf{A}x = b' \\\\\n",
        "⇒ \\textbf{A}(2*x) = b' \\\\\n",
        "⇒ x' = 2*x;  \\text{where $x'$ is the new solution}\n",
        "$$"
      ],
      "metadata": {
        "id": "gt84VIORGYsW"
      }
    },
    {
      "cell_type": "markdown",
      "metadata": {
        "id": "p_1a-z0Gds6D"
      },
      "source": [
        "Suppose that the company acquires another group of distributors and that the daily demand of this group is 2000 gallons of motor oil, 4000 gallons of gasoline, and 4000 gallons of diesel oil. How would you set up production of just this supply? Are there any options (more than one way)?"
      ]
    },
    {
      "cell_type": "code",
      "metadata": {
        "id": "gWaeKh6eQe2W",
        "colab": {
          "base_uri": "https://localhost:8080/"
        },
        "outputId": "50aaa763-2d29-4803-d7c7-da7ddcf4305b"
      },
      "source": [
        "# YOUR CODE HERE\n",
        "A = np.array([[20, 4, 4],\n",
        "              [10, 14, 5],\n",
        "              [5, 5, 12]])\n",
        "b = np.array([2000, 4000, 4000])\n",
        "X3 = solve(A,b)\n",
        "X3"
      ],
      "execution_count": 67,
      "outputs": [
        {
          "output_type": "execute_result",
          "data": {
            "text/plain": [
              "array([ 12.5, 187.5, 250. ])"
            ]
          },
          "metadata": {},
          "execution_count": 67
        }
      ]
    },
    {
      "cell_type": "markdown",
      "source": [
        "**INFERENCE:** *From above it can be seen that for the demand (2000, 4000, 4000), the barrel requirement for factories A, B & C are 13, 188 and 250 respectively. As it is a unique solution, this is the only way to fulfill the demand*"
      ],
      "metadata": {
        "id": "YgqkwI915Sve"
      }
    },
    {
      "cell_type": "markdown",
      "metadata": {
        "id": "H4sayZf1etbN"
      },
      "source": [
        "Next, calculate the needs of each factory (in barrels of crude, as usual) to meet the total demand of both groups of distributors. When you have done this, compare your answer to results already obtained. What mathematical conclusion can you draw?"
      ]
    },
    {
      "cell_type": "code",
      "metadata": {
        "id": "Hjm5kcawewgT",
        "colab": {
          "base_uri": "https://localhost:8080/"
        },
        "outputId": "d48fe54a-d654-4dec-d466-1229e1c06c6b"
      },
      "source": [
        "# YOUR CODE HERE\n",
        "A = np.array([[20, 4, 4],\n",
        "              [10, 14, 5],\n",
        "              [5, 5, 12]])\n",
        "b = np.array([6600 + 2000, 5100 + 4000, 3100 + 4000])\n",
        "X4 = solve(A,b)\n",
        "X4"
      ],
      "execution_count": 68,
      "outputs": [
        {
          "output_type": "execute_result",
          "data": {
            "text/plain": [
              "array([299.75, 316.25, 335.  ])"
            ]
          },
          "metadata": {},
          "execution_count": 68
        }
      ]
    },
    {
      "cell_type": "code",
      "source": [
        "X1 + X3 == X4"
      ],
      "metadata": {
        "colab": {
          "base_uri": "https://localhost:8080/"
        },
        "id": "YWQFJkU-6OsQ",
        "outputId": "a1c010fd-333b-474e-af6a-9d9152365751"
      },
      "execution_count": 69,
      "outputs": [
        {
          "output_type": "execute_result",
          "data": {
            "text/plain": [
              "array([ True,  True,  True])"
            ]
          },
          "metadata": {},
          "execution_count": 69
        }
      ]
    },
    {
      "cell_type": "markdown",
      "source": [
        "**INFERENCE:** *From above we can conclude that the number of barrels required by the plants to meet the total demand (6600 + 2000, 5100 + 4000, 3100 + 4000) is equal to the sum of number of barrels required by the plants to meet the demands individually*"
      ],
      "metadata": {
        "id": "VwATdVR16ROn"
      }
    },
    {
      "cell_type": "markdown",
      "metadata": {
        "id": "ov7RWVpSpzhw"
      },
      "source": [
        "### Sensitivity and Robustness (1 point)"
      ]
    },
    {
      "cell_type": "markdown",
      "metadata": {
        "id": "G1MVw0x_fQMC"
      },
      "source": [
        "In real life applications, constants are rarely ever exactly equal to their stated value; certain amounts of uncertainty are always present. This is part of the reason for the science of statistics. In the above model, the daily productions for the plants would be averages over a period of time. Explore what effect small changes in the parameters have on the output.\n",
        "\n",
        "To do this, pick any 3 coefficients, one at a time, and increase or decrease them by 3%. For each case , note what effect this has on the solution, as a percentage change. Can you draw any overall conclusion?"
      ]
    },
    {
      "cell_type": "markdown",
      "source": [
        "###### INCREASE BY 3% (FACTORY A)"
      ],
      "metadata": {
        "id": "KwmTRfosEYgg"
      }
    },
    {
      "cell_type": "code",
      "metadata": {
        "id": "ObBZDKvYfqie",
        "colab": {
          "base_uri": "https://localhost:8080/"
        },
        "outputId": "75dae462-519f-46f4-cbd8-f1ab955b6f05"
      },
      "source": [
        "# TO Review\n",
        "# Increasing the coefficient value for factory A by 3%\n",
        "A = np.array([[20* 1.03, 4, 4],\n",
        "              [10 * 1.03, 14, 5],\n",
        "              [5 *1.03, 5, 12]])\n",
        "\n",
        "b = np.array([6600, 5100, 3100])\n",
        "X5 = solve(A,b)\n",
        "X5\n"
      ],
      "execution_count": 70,
      "outputs": [
        {
          "output_type": "execute_result",
          "data": {
            "text/plain": [
              "array([278.88349515, 128.75      ,  85.        ])"
            ]
          },
          "metadata": {},
          "execution_count": 70
        }
      ]
    },
    {
      "cell_type": "code",
      "source": [
        "# Percentage change in solution\n",
        "(X5 - X1) / X1"
      ],
      "metadata": {
        "colab": {
          "base_uri": "https://localhost:8080/"
        },
        "id": "LU4oND1SDFxb",
        "outputId": "d71ad3c7-7fea-4725-ae16-65313330e7e8"
      },
      "execution_count": 71,
      "outputs": [
        {
          "output_type": "execute_result",
          "data": {
            "text/plain": [
              "array([-0.02912621,  0.        ,  0.        ])"
            ]
          },
          "metadata": {},
          "execution_count": 71
        }
      ]
    },
    {
      "cell_type": "markdown",
      "source": [
        "Change in solution will be -Δp/(1 + Δp), where Δp is fraction change in coefficients of factory; assuming all are changed by same fraction"
      ],
      "metadata": {
        "id": "GMciiKpng5vN"
      }
    },
    {
      "cell_type": "markdown",
      "source": [
        "**INFERENCE:** *From above it can be seen that after increasing the coefficients of factory A  by 3%, barrel requirement for factory A has decreased by around 3% (-0.029) while for factory B & C it is constant (0).*"
      ],
      "metadata": {
        "id": "PBBe_QqeDWf7"
      }
    },
    {
      "cell_type": "markdown",
      "source": [
        "###### DECREASE BY 3% FACTORY A"
      ],
      "metadata": {
        "id": "4pNBeX_9ENWz"
      }
    },
    {
      "cell_type": "code",
      "source": [
        "# Decreasing the coefficient value for factory A by 3%\n",
        "A = np.array([[20 * 0.97, 4, 4],\n",
        "              [10 * 0.97, 14, 5],\n",
        "              [5 * 0.97, 5, 12]])\n",
        "\n",
        "b = np.array([6600, 5100, 3100])\n",
        "X6 = solve(A,b)\n",
        "X6"
      ],
      "metadata": {
        "colab": {
          "base_uri": "https://localhost:8080/"
        },
        "id": "PrAV9oP6Drar",
        "outputId": "df673f97-99dd-4a1f-e157-3fe91089fe79"
      },
      "execution_count": 72,
      "outputs": [
        {
          "output_type": "execute_result",
          "data": {
            "text/plain": [
              "array([296.13402062, 128.75      ,  85.        ])"
            ]
          },
          "metadata": {},
          "execution_count": 72
        }
      ]
    },
    {
      "cell_type": "code",
      "source": [
        "# Percentage change in solution\n",
        "(X6 - X1) / X1"
      ],
      "metadata": {
        "colab": {
          "base_uri": "https://localhost:8080/"
        },
        "id": "w2Ynoz9yD08E",
        "outputId": "8f0f95a8-fed6-4f66-ff4f-fdc0362948a1"
      },
      "execution_count": 73,
      "outputs": [
        {
          "output_type": "execute_result",
          "data": {
            "text/plain": [
              "array([0.03092784, 0.        , 0.        ])"
            ]
          },
          "metadata": {},
          "execution_count": 73
        }
      ]
    },
    {
      "cell_type": "markdown",
      "source": [
        "**INFERENCE**: *From above it can be seen that after DECREASING the coefficients of factory A by 3%, barrel requirement for factory A has INCREASED by around 3% (0.03) while for factory B & C it is constant (0).*"
      ],
      "metadata": {
        "id": "fytnSVVcD5Sg"
      }
    },
    {
      "cell_type": "markdown",
      "source": [
        "###### SIMILARY INC & DEC BY 3% (FACTORY B)"
      ],
      "metadata": {
        "id": "Q4wnZQK5FDBr"
      }
    },
    {
      "cell_type": "code",
      "source": [
        "# Increasing the coefficient value for factory B by 3%\n",
        "A = np.array([[20, 4 , 4],\n",
        "              [10 * 1.03, 14, 5],\n",
        "              [5, 5 , 12]])\n",
        "condition_number8 = np.linalg.cond(A,p=1)\n",
        "print(condition_number8)\n",
        "b = np.array([6600, 5100, 3100])\n",
        "X7 = solve(A,b)\n",
        "X7"
      ],
      "metadata": {
        "colab": {
          "base_uri": "https://localhost:8080/"
        },
        "id": "jU0OvfURFQUZ",
        "outputId": "723fa5a3-826a-4a43-a0a0-2523d42ae541"
      },
      "execution_count": 110,
      "outputs": [
        {
          "output_type": "stream",
          "name": "stdout",
          "text": [
            "4.92393376818866\n"
          ]
        },
        {
          "output_type": "execute_result",
          "data": {
            "text/plain": [
              "array([288.25890617, 120.82288008,  87.88258906])"
            ]
          },
          "metadata": {},
          "execution_count": 110
        }
      ]
    },
    {
      "cell_type": "code",
      "source": [
        "# Percentage change in solution\n",
        "(X7 - X1) / X1"
      ],
      "metadata": {
        "colab": {
          "base_uri": "https://localhost:8080/"
        },
        "id": "pG2f01eTFW1C",
        "outputId": "434410f0-5df9-4501-f1cc-b345855cd06a"
      },
      "execution_count": 111,
      "outputs": [
        {
          "output_type": "execute_result",
          "data": {
            "text/plain": [
              "array([ 0.00351229, -0.06156986,  0.03391281])"
            ]
          },
          "metadata": {},
          "execution_count": 111
        }
      ]
    },
    {
      "cell_type": "code",
      "source": [
        "# Decreasing the coefficient value for factory B by 3%\n",
        "A = np.array([[20, 4 * 0.97, 4], [10, 14 * 0.97, 5], [5, 5 * 0.97, 12]])\n",
        "b = np.array([6600, 5100, 3100])\n",
        "condition_number8 = np.linalg.cond(A,p=1)\n",
        "print(condition_number8)\n",
        "X8 = solve(A,b)\n",
        "X8"
      ],
      "metadata": {
        "colab": {
          "base_uri": "https://localhost:8080/"
        },
        "id": "oCgZw4Z-FcsD",
        "outputId": "ca0fedd1-58a2-4e04-8f84-c65fb3e7df68"
      },
      "execution_count": 76,
      "outputs": [
        {
          "output_type": "stream",
          "name": "stdout",
          "text": [
            "4.927061855670104\n"
          ]
        },
        {
          "output_type": "execute_result",
          "data": {
            "text/plain": [
              "array([287.25      , 132.73195876,  85.        ])"
            ]
          },
          "metadata": {},
          "execution_count": 76
        }
      ]
    },
    {
      "cell_type": "code",
      "source": [
        "# Checking impact of change\n",
        "p = 1e-8\n",
        "A = np.array([[20 + p, 4, 4], [10, 14, 5-p], [5, 5, 12]])\n",
        "b = np.array([6600, 5100, 3100])\n",
        "condition_number9 = np.linalg.cond(A)\n",
        "print(condition_number8)\n",
        "X9 = solve(A,b)\n",
        "X9"
      ],
      "metadata": {
        "colab": {
          "base_uri": "https://localhost:8080/"
        },
        "id": "fVmznmqDhnF6",
        "outputId": "61051e7d-dd4e-4454-8c48-d3152ec26606"
      },
      "execution_count": 77,
      "outputs": [
        {
          "output_type": "stream",
          "name": "stdout",
          "text": [
            "4.927061855670104\n"
          ]
        },
        {
          "output_type": "execute_result",
          "data": {
            "text/plain": [
              "array([287.24999982, 128.75000019,  85.        ])"
            ]
          },
          "metadata": {},
          "execution_count": 77
        }
      ]
    },
    {
      "cell_type": "code",
      "source": [
        "# Percentage change in solution\n",
        "(X9 - X1) / X1"
      ],
      "metadata": {
        "colab": {
          "base_uri": "https://localhost:8080/"
        },
        "id": "RI4YbKbmFifH",
        "outputId": "69d4f1ff-da63-4ca1-f714-65e659fe39f7"
      },
      "execution_count": 78,
      "outputs": [
        {
          "output_type": "execute_result",
          "data": {
            "text/plain": [
              "array([-6.30356213e-10,  1.48830927e-09, -5.17156409e-11])"
            ]
          },
          "metadata": {},
          "execution_count": 78
        }
      ]
    },
    {
      "cell_type": "markdown",
      "source": [
        "**INFERENCE:** *The results are similar for factory B as well.*"
      ],
      "metadata": {
        "id": "I9eXAMqsFzGg"
      }
    },
    {
      "cell_type": "markdown",
      "source": [
        "**FINAL INFERENCE:** *So, we conclude that if we increase the value of coefficient by n% then its output is decreased by approximately n% and vice-versa. INVERSE PROPORTIONALITY. Also, the solution of the problem seem robust to noises in the coefficients, also inferred from condition number of the coefficient matrix*"
      ],
      "metadata": {
        "id": "pnVlNiYvF6TQ"
      }
    },
    {
      "cell_type": "markdown",
      "metadata": {
        "id": "JOj5wcxQpzhx"
      },
      "source": [
        "### A Plant Off-Line (1 point)"
      ]
    },
    {
      "cell_type": "markdown",
      "metadata": {
        "id": "Dbm0HcJ7frNz"
      },
      "source": [
        "Suppose factory $C$ is shut down by the EPA (Environmental Protection Agency) temporarily for excessive emissions into the atmosphere. If your demand is as it was originally (6600, 5100, 3100), what would you now say about the companies ability to meet it? What do you recommend they schedule for production now?"
      ]
    },
    {
      "cell_type": "markdown",
      "source": [
        "**DEDUCTION:** *So now, the problem statement chnages a bit.Let the number of barrels used by factory A & B are x & y respectively*\n",
        "*  20x + 4y = 6600\n",
        "*  10x + 14y = 5100\n",
        "*  5x + 5y = 3100"
      ],
      "metadata": {
        "id": "Fd_fjnqfGqZ3"
      }
    },
    {
      "cell_type": "markdown",
      "source": [
        "**INFERENCE:** *The above system has 3 equations and 2 unknowns (x and y), which is* overdetermined *because number of linearly independent equations in the system are more than the unknowns*"
      ],
      "metadata": {
        "id": "GwCnYoTLHmCm"
      }
    },
    {
      "cell_type": "code",
      "metadata": {
        "id": "gpbtzvrVAST3",
        "colab": {
          "base_uri": "https://localhost:8080/"
        },
        "outputId": "04306e19-30b8-459b-96de-a006d8c4a2c5"
      },
      "source": [
        "# YOUR CODE HERE\n",
        "# For the first and second equations\n",
        "A = np.array([[20, 4], [10, 14]])\n",
        "b = np.array([6600, 5100])\n",
        "X9 = solve(A,b)\n",
        "X9"
      ],
      "execution_count": 79,
      "outputs": [
        {
          "output_type": "execute_result",
          "data": {
            "text/plain": [
              "array([300., 150.])"
            ]
          },
          "metadata": {},
          "execution_count": 79
        }
      ]
    },
    {
      "cell_type": "code",
      "source": [
        "# For the first and third equations\n",
        "A = np.array([[20, 4], [5, 5]])\n",
        "b = np.array([6600, 3100])\n",
        "X10 = solve(A,b)\n",
        "X10"
      ],
      "metadata": {
        "colab": {
          "base_uri": "https://localhost:8080/"
        },
        "id": "I2frxz-XIFFQ",
        "outputId": "48e9d55c-b4f4-4ed5-874c-7554125133c8"
      },
      "execution_count": 80,
      "outputs": [
        {
          "output_type": "execute_result",
          "data": {
            "text/plain": [
              "array([257.5, 362.5])"
            ]
          },
          "metadata": {},
          "execution_count": 80
        }
      ]
    },
    {
      "cell_type": "code",
      "source": [
        "# For the second and third equations\n",
        "A = np.array([[10, 14], [5, 5]])\n",
        "b = np.array([5100, 3100])\n",
        "X11 = solve(A,b)\n",
        "X11"
      ],
      "metadata": {
        "colab": {
          "base_uri": "https://localhost:8080/"
        },
        "id": "PhY5r-n3IIId",
        "outputId": "6615cd08-8c71-49a9-9cca-b0ac290b4f29"
      },
      "execution_count": 81,
      "outputs": [
        {
          "output_type": "execute_result",
          "data": {
            "text/plain": [
              "array([ 895., -275.])"
            ]
          },
          "metadata": {},
          "execution_count": 81
        }
      ]
    },
    {
      "cell_type": "markdown",
      "source": [
        "**INFERENCE:** *There is one solution for each pair of linear equations:*\n",
        "\n",
        "*   first and second equations (300, 150)\n",
        "*   first and third (258, 363)\n",
        "*   the second and third (895, -275)\n",
        "\n",
        "*We can discard the third one as number of barrels can't be negative. However, there is no exact solution that satisfies all three simultaneously*"
      ],
      "metadata": {
        "id": "UbZqVhivIXJl"
      }
    },
    {
      "cell_type": "markdown",
      "source": [
        "For over-determined system, closest solution can be estimated by solving normal equations; AᵀX = AᵀB"
      ],
      "metadata": {
        "id": "tiTsPIgroNGH"
      }
    },
    {
      "cell_type": "code",
      "source": [
        "motor_oil_equation4 = np.array([20, 4])\n",
        "diesel_oil_equation4 = np.array([10, 14])\n",
        "gasoline_equation4 = np.array([5, 5])\n",
        "demand_vector = np.array([6600, 5100, 3100])\n",
        "coefficient_matrix_c_off = np.array([motor_oil_equation4, diesel_oil_equation4, gasoline_equation4])\n",
        "newCoeff = np.dot(coefficient_matrix_c_off.T,coefficient_matrix_c_off)\n",
        "newBvec = np.dot(coefficient_matrix_c_off.T,demand_vector)"
      ],
      "metadata": {
        "id": "1i7JYwGhoH4H"
      },
      "execution_count": 82,
      "outputs": []
    },
    {
      "cell_type": "code",
      "source": [
        "solution = solve(newCoeff, newBvec)\n",
        "print ('Crude oil required by factor A and B in order to closely match the demand', solution)\n",
        "print('\\nDemand that can be met from the two factories for motor oil, diesel, gasoline, respecively is:', np.dot(coefficient_matrix_c_off,np.ceil(solution)))"
      ],
      "metadata": {
        "colab": {
          "base_uri": "https://localhost:8080/"
        },
        "id": "Gphhw0UHopvl",
        "outputId": "93feff0b-11e8-49cc-d07a-d5d51238d6b9"
      },
      "execution_count": 83,
      "outputs": [
        {
          "output_type": "stream",
          "name": "stdout",
          "text": [
            "Crude oil required by factor A and B in order to closely match the demand [299.47204969 168.47826087]\n",
            "\n",
            "Demand that can be met from the two factories for motor oil, diesel, gasoline, respecively is: [6676. 5366. 2345.]\n"
          ]
        }
      ]
    },
    {
      "cell_type": "markdown",
      "source": [
        "$$ \\text{Gasoline falling short by} = 3100-2340 = 760 \\text{ gallons} \\\\\n",
        "\\Rightarrow 5*x+5*y = 760 \\text{ and } \\frac{x}{y} = \\frac{300}{168} \\\\\n",
        "\\Rightarrow x = 97 \\text{ barrels};y=55 \\text{ barrels} \\\\\n",
        "\\therefore \\left[ \\begin{matrix} x \\\\ y \\end{matrix} \\right] = \\left[ \\begin{matrix} 397 \\\\ 223 \\end{matrix} \\right]\\\\\n",
        "$$"
      ],
      "metadata": {
        "id": "KOWVrKYTJzVg"
      }
    },
    {
      "cell_type": "code",
      "source": [
        "print('Demand matrix= ','\\n',demand_vector,'\\n')\n",
        "print('Checking the solution \\n',np.dot(coefficient_matrix_c_off,[397,223]))"
      ],
      "metadata": {
        "colab": {
          "base_uri": "https://localhost:8080/"
        },
        "id": "r6mkAknfJ1eB",
        "outputId": "3fb0d8d8-2ddd-46e6-9868-a06bd196ca4a"
      },
      "execution_count": 84,
      "outputs": [
        {
          "output_type": "stream",
          "name": "stdout",
          "text": [
            "Demand matrix=  \n",
            " [6600 5100 3100] \n",
            "\n",
            "Checking the solution \n",
            " [8832 7092 3100]\n"
          ]
        }
      ]
    },
    {
      "cell_type": "markdown",
      "metadata": {
        "id": "tZpzEVmEpzhx"
      },
      "source": [
        "### Buying another plant"
      ]
    },
    {
      "cell_type": "markdown",
      "metadata": {
        "id": "X0ghbS-s3Mel"
      },
      "source": [
        "####(Note the following given information. You will see questions in continuation to this, in the subsequent sections)\n",
        "\n",
        "This situation has caused enough concern that the CEO is considering buying another plant, identical to the third, and using it permanently. Assuming that all 4 plants are on line, what production do you recommend to meet the current demand (5000, 8500, 10000)? In general, what can you say about any increased flexibility that the 4th plant might provide?"
      ]
    },
    {
      "cell_type": "markdown",
      "metadata": {
        "id": "IcbiTq8zpzhx"
      },
      "source": [
        "Let the number of barrels used by factory $A$, $B$, $C$ and $D$ are $x$, $y$, $z$ and $w$ respectively.\n",
        "\n",
        "Then the system of linear equations will be\n",
        "\n",
        "$$20x + 4y + 4z + 4w = 5000$$\n",
        "\n",
        "$$10x + 14y + 5z + 5w = 8500$$\n",
        "\n",
        "$$5x + 5y + 12z + 12w = 10000$$\n",
        "\n",
        "The above system of linear equation has fewer equations than variables, hence it is *underdetermined* and cannot have a unique solution. In this case, there are either infinitely many solutions or no exact solution. We can solve it by keeping $w$ as constant and using [rref](http://linear.ups.edu/html/section-RREF.html) form to solve the system of linear equation.\n",
        "\n",
        "To know about rref implementation in python refer [here](https://docs.sympy.org/latest/tutorial/matrices.html#rref)."
      ]
    },
    {
      "cell_type": "code",
      "metadata": {
        "id": "DnCYG65tB8gp",
        "colab": {
          "base_uri": "https://localhost:8080/"
        },
        "outputId": "c89cc721-c315-4db9-e590-59ecec6d04f2"
      },
      "source": [
        "import sympy as sy\n",
        "\n",
        "# create symbol 'w'\n",
        "w = sy.Symbol(\"w\")\n",
        "A_aug = sy.Matrix([[20, 4, 4, 5000-4*w],\n",
        "                   [10, 14, 5, 8500-5*w],\n",
        "                   [5, 5, 12, 10000-12*w]])\n",
        "# show rref form\n",
        "A_aug.rref()"
      ],
      "execution_count": 85,
      "outputs": [
        {
          "output_type": "execute_result",
          "data": {
            "text/plain": [
              "(Matrix([\n",
              " [1, 0, 0,   195/4],\n",
              " [0, 1, 0,  1325/4],\n",
              " [0, 0, 1, 675 - w]]),\n",
              " (0, 1, 2))"
            ]
          },
          "metadata": {},
          "execution_count": 85
        }
      ]
    },
    {
      "cell_type": "markdown",
      "metadata": {
        "id": "1lcEL3n5pzhz"
      },
      "source": [
        "From the above result, it can be seen that 4th plant will share the number of barrels required by the 3rd plant only, while the requirement of 1st and 2nd plant will remain unaffected."
      ]
    },
    {
      "cell_type": "markdown",
      "metadata": {
        "id": "yE9hCfAMpzhz"
      },
      "source": [
        "### Calculate the amount of Paraffin supplied (1 point)"
      ]
    },
    {
      "cell_type": "markdown",
      "metadata": {
        "id": "u9HSGUeZquXD"
      },
      "source": [
        "The company has just found a candle company that will buy its paraffin. Under the current conditions (i.e, after buying another plant) for demand (5000, 8500, 10000), how much can be supplied to them per day?"
      ]
    },
    {
      "cell_type": "markdown",
      "metadata": {
        "id": "ilEui1GHA3Oh"
      },
      "source": [
        "According to the problem statement, factory $A$ has 3 gallons of paraffin to dispose of per barrel of crude oil, factory $B$ 5 gallons, and factory $C$ 2 gallons."
      ]
    },
    {
      "cell_type": "code",
      "metadata": {
        "id": "gJnUalG2_r0i"
      },
      "source": [
        "# YOUR CODE HERE\n",
        "import sympy as sy\n",
        "\n",
        "# create symbol 'w'\n",
        "w = sy.Symbol(\"w\")\n",
        "A_aug = sy.Matrix([[20, 4, 4, 5000-4*w],\n",
        "                   [10, 14, 5, 8500-5*w],\n",
        "                   [5, 5, 12, 10000-12*w]])\n",
        "# show rref form\n",
        "row_echelon_form, _ = A_aug.rref()\n"
      ],
      "execution_count": 86,
      "outputs": []
    },
    {
      "cell_type": "code",
      "source": [
        "row_echelon_form"
      ],
      "metadata": {
        "colab": {
          "base_uri": "https://localhost:8080/",
          "height": 78
        },
        "id": "S2XevJnntF3E",
        "outputId": "0fe68aba-c7ee-43a8-e7cf-0f66c5519fef"
      },
      "execution_count": 87,
      "outputs": [
        {
          "output_type": "execute_result",
          "data": {
            "text/plain": [
              "Matrix([\n",
              "[1, 0, 0,   195/4],\n",
              "[0, 1, 0,  1325/4],\n",
              "[0, 0, 1, 675 - w]])"
            ],
            "text/latex": "$\\displaystyle \\left[\\begin{matrix}1 & 0 & 0 & \\frac{195}{4}\\\\0 & 1 & 0 & \\frac{1325}{4}\\\\0 & 0 & 1 & 675 - w\\end{matrix}\\right]$"
          },
          "metadata": {},
          "execution_count": 87
        }
      ]
    },
    {
      "cell_type": "code",
      "source": [
        "paraffin_from_A = (195/4) * 3\n",
        "paraffin_from_B = (1325/4) * 5\n",
        "paraffin_from_C_D = (675) * 2\n",
        "paraffin_supplied_per_day = paraffin_from_A + paraffin_from_B + paraffin_from_C_D\n",
        "paraffin_supplied_per_day"
      ],
      "metadata": {
        "colab": {
          "base_uri": "https://localhost:8080/"
        },
        "id": "E9HCcB2pKrVy",
        "outputId": "b484eb6a-7fd6-49a9-84be-9dcdcd515a26"
      },
      "execution_count": 88,
      "outputs": [
        {
          "output_type": "execute_result",
          "data": {
            "text/plain": [
              "3152.5"
            ]
          },
          "metadata": {},
          "execution_count": 88
        }
      ]
    },
    {
      "cell_type": "code",
      "source": [
        "# if the disposal from D is different\n",
        "parD = sy.Symbol('paraD')\n",
        "paraffin_dispose = sy.Matrix([3,5,2,parD])\n",
        "paraffin_supplied_w = row_echelon_form[:,-1].dot(paraffin_dispose[:-1]) + w*paraffin_dispose[-1]\n",
        "print(paraffin_supplied_w)"
      ],
      "metadata": {
        "colab": {
          "base_uri": "https://localhost:8080/"
        },
        "id": "76Ux-irTvfAG",
        "outputId": "a03f9aec-dfde-480a-e23b-7b42b61a3d9c"
      },
      "execution_count": 89,
      "outputs": [
        {
          "output_type": "stream",
          "name": "stdout",
          "text": [
            "paraD*w - 2*w + 6305/2\n"
          ]
        }
      ]
    },
    {
      "cell_type": "markdown",
      "metadata": {
        "id": "sSpnIH4Ypzh0"
      },
      "source": [
        "### Selling the first plant (1 point)"
      ]
    },
    {
      "cell_type": "markdown",
      "metadata": {
        "id": "8l3c1GN14EDp"
      },
      "source": [
        "The management is also considering selling the first plant due to aging equipment and high workman's compensation costs for the state it is located in. They would like to know what this would do to their production capability. Specifically, they would like an example of a demand they could not meet with only plants 2 and 3, and also what effect having plant 4 has (recall it is identical to plant 3). They would also like an example of a demand that they could meet with just plants 2 and 3. Any general statements you could make here would be helpful."
      ]
    },
    {
      "cell_type": "markdown",
      "metadata": {
        "id": "qYz46wb2GTo7"
      },
      "source": [
        "Let the number of barrels used by factory $B$, $C$ and $D$ are $y$, $z$ and $w$ respectively.\n",
        "\n",
        "When considering only plants 2 and 3, and demand (5000, 8500, 10000) then we have\n",
        "\n",
        "$$4y + 4z = 5000$$\n",
        "\n",
        "$$14y + 5z = 8500$$\n",
        "\n",
        "$$5y + 12z = 10000$$"
      ]
    },
    {
      "cell_type": "markdown",
      "source": [
        "**INFERENCE:** *The above system has 3 equations and 2 unknowns (y and z), which is overdetermined because number of linearly independent equations in the system are more than the unknowns*"
      ],
      "metadata": {
        "id": "dDdV-V7RC1kT"
      }
    },
    {
      "cell_type": "code",
      "source": [
        "b0 = sy.Symbol(\"b0\")\n",
        "b1 = sy.Symbol(\"b1\")\n",
        "b2 = sy.Symbol(\"b2\")\n",
        "A_aug = sy.Matrix([[4, 4, b0],\n",
        "                   [14, 5, b1],\n",
        "                   [5, 12,b2]])\n",
        "# show rref form\n",
        "echelon_form = A_aug.echelon_form()\n",
        "print(echelon_form)"
      ],
      "metadata": {
        "colab": {
          "base_uri": "https://localhost:8080/"
        },
        "id": "9bgVXztIxNKl",
        "outputId": "585118bf-6d0a-45f8-cb06-a3061ea67f92"
      },
      "execution_count": 90,
      "outputs": [
        {
          "output_type": "stream",
          "name": "stdout",
          "text": [
            "Matrix([[4, 4, b0], [0, -36, -14*b0 + 4*b1], [0, 0, 572*b0 - 112*b1 - 144*b2]])\n"
          ]
        }
      ]
    },
    {
      "cell_type": "code",
      "source": [
        "echelon_form\n"
      ],
      "metadata": {
        "colab": {
          "base_uri": "https://localhost:8080/",
          "height": 78
        },
        "id": "NKwo-I8N1JIX",
        "outputId": "60ca369a-8ca2-4d63-b990-d2b8df701ceb"
      },
      "execution_count": 91,
      "outputs": [
        {
          "output_type": "execute_result",
          "data": {
            "text/plain": [
              "Matrix([\n",
              "[4,   4,                       b0],\n",
              "[0, -36,            -14*b0 + 4*b1],\n",
              "[0,   0, 572*b0 - 112*b1 - 144*b2]])"
            ],
            "text/latex": "$\\displaystyle \\left[\\begin{matrix}4 & 4 & b_{0}\\\\0 & -36 & - 14 b_{0} + 4 b_{1}\\\\0 & 0 & 572 b_{0} - 112 b_{1} - 144 b_{2}\\end{matrix}\\right]$"
          },
          "metadata": {},
          "execution_count": 91
        }
      ]
    },
    {
      "cell_type": "markdown",
      "source": [
        "**Solution exists** if\n",
        " 144b_2 = 572b_0 - 112b_1 (1)\n",
        "\n",
        " and\n",
        "\n",
        "(14b_0 - 4b1)/36 >= 1  (2)"
      ],
      "metadata": {
        "id": "cyxKOwJv67Zh"
      }
    },
    {
      "cell_type": "code",
      "source": [
        "b_0 = 5000\n",
        "b_1 = 8500\n",
        "b_2 = (572/144)*b_0 - (112/144)*b_1\n",
        "print(b_0,b_1,b_2)"
      ],
      "metadata": {
        "colab": {
          "base_uri": "https://localhost:8080/"
        },
        "id": "3YBCxNOqO34S",
        "outputId": "eeb7f9a8-6a25-4f6d-9102-75a0d6978afe"
      },
      "execution_count": 92,
      "outputs": [
        {
          "output_type": "stream",
          "name": "stdout",
          "text": [
            "5000 8500 13250.000000000002\n"
          ]
        }
      ]
    },
    {
      "cell_type": "markdown",
      "source": [
        "[5000, 8500, 13250] demand can be met by plant B and C."
      ],
      "metadata": {
        "id": "mdAAT7Pk4AMu"
      }
    },
    {
      "cell_type": "code",
      "metadata": {
        "id": "Ru-prbsHGwH_",
        "colab": {
          "base_uri": "https://localhost:8080/"
        },
        "outputId": "cb90c184-4a73-41f2-e7a7-a31f5428784f"
      },
      "source": [
        "# YOUR CODE HERE\n",
        "# For the first and second equations\n",
        "A = np.array([[4, 4], [14, 5]])\n",
        "b = np.array([5000, 8500])\n",
        "X12 = solve(A,b)\n",
        "X12"
      ],
      "execution_count": 93,
      "outputs": [
        {
          "output_type": "execute_result",
          "data": {
            "text/plain": [
              "array([ 250., 1000.])"
            ]
          },
          "metadata": {},
          "execution_count": 93
        }
      ]
    },
    {
      "cell_type": "code",
      "source": [
        "# For the second and third equations\n",
        "A = np.array([[14, 5], [5, 12]])\n",
        "b = np.array([8500, 13250])\n",
        "X15 = solve(A,b)\n",
        "X15"
      ],
      "metadata": {
        "colab": {
          "base_uri": "https://localhost:8080/"
        },
        "id": "3P9ynMlEQjTA",
        "outputId": "083a5a8e-bfe6-4fac-b80f-804cae896780"
      },
      "execution_count": 94,
      "outputs": [
        {
          "output_type": "execute_result",
          "data": {
            "text/plain": [
              "array([ 250., 1000.])"
            ]
          },
          "metadata": {},
          "execution_count": 94
        }
      ]
    },
    {
      "cell_type": "code",
      "source": [
        "# For the first and third equations\n",
        "A = np.array([[4, 4], [5, 12]])\n",
        "b = np.array([5000, 13250])\n",
        "X13 = solve(A,b)\n",
        "X13"
      ],
      "metadata": {
        "colab": {
          "base_uri": "https://localhost:8080/"
        },
        "id": "4WfFZpBJQr0g",
        "outputId": "12b7dc43-c826-4068-c196-6a1e17b7501c"
      },
      "execution_count": 95,
      "outputs": [
        {
          "output_type": "execute_result",
          "data": {
            "text/plain": [
              "array([ 250., 1000.])"
            ]
          },
          "metadata": {},
          "execution_count": 95
        }
      ]
    },
    {
      "cell_type": "markdown",
      "metadata": {
        "id": "bLsK1-zNEP0T"
      },
      "source": [
        "Taking 4th plant into consideration.\n",
        "Let the number of barrels used by factory $B$, $C$ and $D$ are $y$, $z$ and $w$ respectively.\n",
        "\n",
        "Then for demand (5000, 8500, 10000) the system of linear equations will be\n",
        "\n",
        "$$4y + 4z + 4w = 5000$$\n",
        "\n",
        "$$14y + 5z + 5w = 8500$$\n",
        "\n",
        "$$5y + 12z + 12w = 10000$$\n",
        "\n",
        "Solve it using rref form."
      ]
    },
    {
      "cell_type": "markdown",
      "source": [
        "if the demand is [5000, 8500, 13250], it can be met by plant B, C and D. We get the same condition as before, since we will arrive the set of equations if we write **z_prime = z + w**\n"
      ],
      "metadata": {
        "id": "c2uRXzOk3qab"
      }
    },
    {
      "cell_type": "code",
      "metadata": {
        "id": "5lqPcpJ9F9xx",
        "colab": {
          "base_uri": "https://localhost:8080/"
        },
        "outputId": "b65c4807-ae3f-44ea-b201-a4c693971759"
      },
      "source": [
        "# YOUR CODE HERE\n",
        "import sympy as sy\n",
        "w = sy.Symbol('w')\n",
        "A_aug = sy.Matrix([[4, 4, 4*w, 5000],\n",
        "                   [14, 5, 5*w, 8500],\n",
        "                   [5, 12, 12*w, 10000]])\n",
        "A_aug.rref()"
      ],
      "execution_count": 96,
      "outputs": [
        {
          "output_type": "execute_result",
          "data": {
            "text/plain": [
              "(Matrix([\n",
              " [1, 0, 0, 0],\n",
              " [0, 1, w, 0],\n",
              " [0, 0, 0, 1]]),\n",
              " (0, 1, 3))"
            ]
          },
          "metadata": {},
          "execution_count": 96
        }
      ]
    },
    {
      "cell_type": "markdown",
      "source": [
        "**INFERENCE:** *From above it can be seen that the above system of equation has no exact solution*\n",
        "Reference:\n",
        "https://people.math.osu.edu/husen.1/teaching/au2011/568/row_echelon_solutions.pdf"
      ],
      "metadata": {
        "id": "8-qFZWiqQc5b"
      }
    },
    {
      "cell_type": "markdown",
      "metadata": {
        "id": "u7SDjgFkP5fj"
      },
      "source": [
        "Now, changing demand to (6600, 5100, 3100) and solving the system of equation using rref form."
      ]
    },
    {
      "cell_type": "code",
      "metadata": {
        "id": "nwSpgbqAGlON",
        "colab": {
          "base_uri": "https://localhost:8080/"
        },
        "outputId": "80d955da-30e0-4d56-8cd5-027f73ebaad9"
      },
      "source": [
        "# YOUR CODE HERE\n",
        "import sympy as sy\n",
        "A_aug = sy.Matrix([[4, 4, 4, 6600],\n",
        "                   [14, 5, 5, 5100],\n",
        "                   [5, 12, 12, 3100]])\n",
        "A_aug.rref()"
      ],
      "execution_count": 97,
      "outputs": [
        {
          "output_type": "execute_result",
          "data": {
            "text/plain": [
              "(Matrix([\n",
              " [1, 0, 0, 0],\n",
              " [0, 1, 1, 0],\n",
              " [0, 0, 0, 1]]),\n",
              " (0, 1, 3))"
            ]
          },
          "metadata": {},
          "execution_count": 97
        }
      ]
    },
    {
      "cell_type": "code",
      "source": [
        "# YOUR CODE HERE\n",
        "import sympy as sy\n",
        "A_aug = sy.Matrix([[4, 4, 5000-4*w],\n",
        "                   [14, 5, 8500- 5*w],\n",
        "                   [5, 12, 13250 - 12*w]])\n",
        "A_aug.rref()"
      ],
      "metadata": {
        "colab": {
          "base_uri": "https://localhost:8080/"
        },
        "id": "1FU_AmkyVNDa",
        "outputId": "a139c6b3-4ca2-4723-deeb-ac91e7f0860c"
      },
      "execution_count": 98,
      "outputs": [
        {
          "output_type": "execute_result",
          "data": {
            "text/plain": [
              "(Matrix([\n",
              " [1, 0,      250],\n",
              " [0, 1, 1000 - w],\n",
              " [0, 0,        0]]),\n",
              " (0, 1))"
            ]
          },
          "metadata": {},
          "execution_count": 98
        }
      ]
    },
    {
      "cell_type": "markdown",
      "metadata": {
        "id": "fngUPMK_pzh1"
      },
      "source": [
        "### Set rates for Products (1 point)"
      ]
    },
    {
      "cell_type": "markdown",
      "metadata": {
        "id": "8Go0tQYtpzh1"
      },
      "source": [
        "Company wants to set the rates of motor oil, diesel oil, and gasoline. For this purpose they have few suggestions given as follows:\n",
        "\n",
        "* 100, 66, 102 Rupees per gallon,\n",
        "\n",
        "* 104, 64, 100 Rupees per gallon,\n",
        "\n",
        "* 102, 68, 98 Rupees per gallon, and\n",
        "\n",
        "* 96, 68, 100 Rupees per gallon\n",
        "\n",
        "for motor oil, diesel oil, and gasoline respectively.\n",
        "\n",
        "Using matrix multiplication, find the rates which result in maximum total price."
      ]
    },
    {
      "cell_type": "markdown",
      "metadata": {
        "id": "9yRue5zIpzh1"
      },
      "source": [
        "Let $M$ denote the matrix such that rows represents different plants (A, B and C), columns represents different products (motor oil, diesel oil and gasoline) and each value represents production of that product from one barrel of crude oil for that plant.\n",
        "\n",
        "$$M = \\begin{bmatrix}\n",
        "20 & 10 & 5 \\\\\n",
        "4 & 14 & 5  \\\\\n",
        " 4 & 5 & 12  \n",
        "\\end{bmatrix}$$\n",
        "\n",
        "Also, $R$ is a matrix having different rates as its columns.\n",
        "\n",
        "$$R = \\begin{bmatrix}\n",
        "100 & 104 & 102 & 96 \\\\\n",
        "66 & 64 & 68 & 68  \\\\\n",
        "102 & 100 & 98 & 100  \n",
        "\\end{bmatrix}$$"
      ]
    },
    {
      "cell_type": "code",
      "metadata": {
        "id": "Sz5Bef3npzh1",
        "colab": {
          "base_uri": "https://localhost:8080/"
        },
        "outputId": "3f1417d8-8450-46e9-8fa6-d28fa9479116"
      },
      "source": [
        "# YOUR CODE HERE\n",
        "# Matrix multiplication\n",
        "M = np.array([[20, 10, 5], [4, 14, 5], [4, 5, 12]])\n",
        "R = np.array([[100, 104, 102, 96],\n",
        "              [66, 64, 68, 70],\n",
        "              [102, 100, 98, 100]])\n",
        "\n",
        "M @ R"
      ],
      "execution_count": 99,
      "outputs": [
        {
          "output_type": "execute_result",
          "data": {
            "text/plain": [
              "array([[3170, 3220, 3210, 3120],\n",
              "       [1834, 1812, 1850, 1864],\n",
              "       [1954, 1936, 1924, 1934]])"
            ]
          },
          "metadata": {},
          "execution_count": 99
        }
      ]
    },
    {
      "cell_type": "markdown",
      "source": [
        "**EXPLAINATION:** *The resultant matrix contains total prices for each plant, taking different rates into consideration.*\n",
        "\n",
        "The element (i: row,j: column) represents total price of plant i for a given price regime j"
      ],
      "metadata": {
        "id": "UrrdOhP1Rkf5"
      }
    },
    {
      "cell_type": "markdown",
      "source": [
        "**NOW:** *In order to get the total price we need to sum up the prices for each plant (summing one column at a time) and take those rates for which the total price is maximum.*"
      ],
      "metadata": {
        "id": "QTeyEncTRrog"
      }
    },
    {
      "cell_type": "code",
      "source": [
        "# Total price for each rate\n",
        "total_price = sum(M @ R)\n",
        "print(\"Price: \", total_price)\n",
        "\n",
        "# Get index of highest value in array\n",
        "index = np.argmax(total_price)\n",
        "print(index)\n",
        "\n",
        "# Extract desired rates\n",
        "rate = R[:,index]\n",
        "print(\"Desired rate: \", rate)"
      ],
      "metadata": {
        "colab": {
          "base_uri": "https://localhost:8080/"
        },
        "id": "TdSHJP-XR4dv",
        "outputId": "14773093-bf54-4d73-945f-c9bb8425a753"
      },
      "execution_count": 100,
      "outputs": [
        {
          "output_type": "stream",
          "name": "stdout",
          "text": [
            "Price:  [6958 6968 6984 6918]\n",
            "2\n",
            "Desired rate:  [102  68  98]\n"
          ]
        }
      ]
    },
    {
      "cell_type": "markdown",
      "metadata": {
        "id": "cga8JrkApzh1"
      },
      "source": [
        "### Marginal Cost (1 point)"
      ]
    },
    {
      "cell_type": "markdown",
      "metadata": {
        "id": "8nN5V5NXpzh2"
      },
      "source": [
        "The total cost $C(x)$ in Rupees, associated with the production of $x$ gallons of gasoline is given by\n",
        "\n",
        "$$C(x) = 0.005 x^3 – 0.02 x^2 + 30x + 5000$$\n",
        "\n",
        "Find the marginal cost when $22$ gallons are produced, where, marginal cost means the instantaneous rate of change of total cost at any level of output."
      ]
    },
    {
      "cell_type": "markdown",
      "source": [
        "**INTERPRETAION:**\n",
        "*To get the marginal cost, we need to get the first derivartive of the equation and then place x=22 --> mathematically that will give us Rs. 36.38.*\n",
        "\n",
        "*To code the following we will have to use lamda & derivative function from scipy package*"
      ],
      "metadata": {
        "id": "-YX_drMuTn2W"
      }
    },
    {
      "cell_type": "code",
      "metadata": {
        "id": "rO-HMED3pzh2",
        "colab": {
          "base_uri": "https://localhost:8080/"
        },
        "outputId": "f3a7a55b-1611-4fb6-9c13-45355a8c4965"
      },
      "source": [
        "# YOUR CODE HERE\n",
        "from scipy.misc import derivative\n",
        "\n",
        "f = lambda x: 0.005 * x**3 - 0.02 * x**2 + 30 * x + 5000\n",
        "x = 22\n",
        "derivative(f, x)"
      ],
      "execution_count": 101,
      "outputs": [
        {
          "output_type": "stream",
          "name": "stderr",
          "text": [
            "<ipython-input-101-127325d391da>:6: DeprecationWarning: scipy.misc.derivative is deprecated in SciPy v1.10.0; and will be completely removed in SciPy v1.12.0. You may consider using findiff: https://github.com/maroba/findiff or numdifftools: https://github.com/pbrod/numdifftools\n",
            "  derivative(f, x)\n"
          ]
        },
        {
          "output_type": "execute_result",
          "data": {
            "text/plain": [
              "36.38500000000022"
            ]
          },
          "metadata": {},
          "execution_count": 101
        }
      ]
    },
    {
      "cell_type": "markdown",
      "metadata": {
        "id": "qOMlrDEhpzh2"
      },
      "source": [
        "### Marginal Revenue (1 point)"
      ]
    },
    {
      "cell_type": "markdown",
      "metadata": {
        "id": "bfS88lmWpzh2"
      },
      "source": [
        "The total revenue in Rupees received from the sale of $x$ gallons of a motor oil is given by $$R(x) = 3x^2 + 36x + 5.$$\n",
        "\n",
        "Find the marginal revenue, when $x = 28$, where, marginal revenue means the rate of change of total revenue with respect to the number of items sold at an instant."
      ]
    },
    {
      "cell_type": "code",
      "metadata": {
        "id": "rb0h6p49pzh2",
        "colab": {
          "base_uri": "https://localhost:8080/"
        },
        "outputId": "850f479f-b09b-4342-ef36-e30ba1558183"
      },
      "source": [
        "# YOUR CODE HERE\n",
        "from scipy.misc import derivative\n",
        "\n",
        "f = lambda x: 3 * x**2 + 36 * x + 5\n",
        "x = 28\n",
        "derivative(f,x)"
      ],
      "execution_count": 102,
      "outputs": [
        {
          "output_type": "stream",
          "name": "stderr",
          "text": [
            "<ipython-input-102-6652035a74a4>:6: DeprecationWarning: scipy.misc.derivative is deprecated in SciPy v1.10.0; and will be completely removed in SciPy v1.12.0. You may consider using findiff: https://github.com/maroba/findiff or numdifftools: https://github.com/pbrod/numdifftools\n",
            "  derivative(f,x)\n"
          ]
        },
        {
          "output_type": "execute_result",
          "data": {
            "text/plain": [
              "204.0"
            ]
          },
          "metadata": {},
          "execution_count": 102
        }
      ]
    },
    {
      "cell_type": "markdown",
      "metadata": {
        "id": "ZKb5VuM_pzh2"
      },
      "source": [
        "### Pouring crude oil in tank (1 point)"
      ]
    },
    {
      "cell_type": "markdown",
      "metadata": {
        "id": "TD9zv5jPpzh2"
      },
      "source": [
        "In a cylindrical tank of radius 10 meter, crude oil is being poured at the rate of 314 cubic meter per hour. Then find\n",
        "\n",
        "* the rate at which the height of crude oil is increasing in the tank, and\n",
        "* the height of crude oil in tank after 2 hours."
      ]
    },
    {
      "cell_type": "markdown",
      "source": [
        "**CHANGE/REVISIT THIS (ANUSH)**\n",
        "\n",
        "let q be the rate at which the ht. of the tank is increasing\n",
        "\n",
        "the the height (h) of crude oil in cylinder, increasing with time t is\n",
        "\n",
        "--> h = q * t / area\n",
        "\n",
        "vol. of crude oil inside cyl. is\n",
        "\n",
        "--> V = (pi)(r^2)h\n",
        "\n",
        "and then, the rate of change of volume is\n",
        "\n",
        "-->first derivative(V) wrt t = (pi)(r^2)q\n",
        "\n"
      ],
      "metadata": {
        "id": "jnN_wznKVFmE"
      }
    },
    {
      "cell_type": "code",
      "metadata": {
        "id": "g6ntcdNypzh2",
        "colab": {
          "base_uri": "https://localhost:8080/",
          "height": 38
        },
        "outputId": "93634d17-3667-4fc7-8ca5-0e6f90eeb98c"
      },
      "source": [
        "# Solution-1\n",
        "\n",
        "import numpy as np\n",
        "import sympy as sym\n",
        "\n",
        "# radius\n",
        "r = 10\n",
        "\n",
        "# time symbol\n",
        "t = sym.Symbol('t')\n",
        "\n",
        "# height rate symbol\n",
        "q = sym.Symbol('m')\n",
        "\n",
        "# height of tank\n",
        "h = q * t\n",
        "\n",
        "# volume of tank\n",
        "v = np.pi * r**2 * h\n",
        "\n",
        "# derivative(v,t)\n",
        "# the rate of change of volume\n",
        "sym.Derivative(v, t).doit()"
      ],
      "execution_count": 103,
      "outputs": [
        {
          "output_type": "execute_result",
          "data": {
            "text/plain": [
              "314.159265358979*m"
            ],
            "text/latex": "$\\displaystyle 314.159265358979 m$"
          },
          "metadata": {},
          "execution_count": 103
        }
      ]
    },
    {
      "cell_type": "code",
      "source": [
        "# Given volume flow rate = 314 cubic meter/hr in the question,\n",
        "# solve for q\n",
        "q = solve([[314.16]], [[314]])\n",
        "print(\"Rate at which height of tank is increasing: \", q)"
      ],
      "metadata": {
        "colab": {
          "base_uri": "https://localhost:8080/"
        },
        "id": "NAWdnzlYWlRM",
        "outputId": "a18ad0df-3865-4913-d802-3a1cb45ea92c"
      },
      "execution_count": 104,
      "outputs": [
        {
          "output_type": "stream",
          "name": "stdout",
          "text": [
            "Rate at which height of tank is increasing:  [[0.99949071]]\n"
          ]
        }
      ]
    },
    {
      "cell_type": "markdown",
      "source": [
        "**INFERENCE:** *the rate at which the height of the tank is increasing is 1 m/hr*"
      ],
      "metadata": {
        "id": "GEP-07jnXfRE"
      }
    },
    {
      "cell_type": "code",
      "source": [
        "# now, let's calculate the ht. after two hrs\n",
        "t = 2\n",
        "h_2 = q * t\n",
        "print(\"Height of crude oil in tank after 2 hours: \", h_2)"
      ],
      "metadata": {
        "colab": {
          "base_uri": "https://localhost:8080/"
        },
        "id": "lL1MjrC2Xqyb",
        "outputId": "219da876-a646-4e2f-be67-999196441f44"
      },
      "execution_count": 105,
      "outputs": [
        {
          "output_type": "stream",
          "name": "stdout",
          "text": [
            "Height of crude oil in tank after 2 hours:  [[1.99898141]]\n"
          ]
        }
      ]
    },
    {
      "cell_type": "code",
      "source": [
        "# Solution -2\n",
        "import sympy as sy\n",
        "import math as m\n",
        "# Define symbolic variables\n",
        "\n",
        "# Given values\n",
        "radius = 10\n",
        "dv_dt = 314\n",
        "#calculate (dv_dt/dv_dh) = dh_dt since by chain rule dv/dt = (dv/dh)*(dh/dt)\n",
        "h = sy.symbols('h')\n",
        "r = sy.symbols('r')\n",
        "V = m.pi*r**2*h\n",
        "dv_dh = sy.diff(V,h)\n",
        "# the rate at which the height of crude oil is increasing in the tank\n",
        "print(dv_dt/dv_dh.subs(r,10))\n",
        "# the height of crude oil in tank after 2 hours.\n",
        "dh_dt = dv_dt/dv_dh.subs(r,10)\n",
        "t = sy.symbols('t')\n",
        "height = sy.integrate(dh_dt,(t,0,2))\n",
        "print(height)"
      ],
      "metadata": {
        "colab": {
          "base_uri": "https://localhost:8080/"
        },
        "id": "nh8DhBRCaDqj",
        "outputId": "e4e4c5eb-fa87-4cc7-8259-9efa35a39f56"
      },
      "execution_count": 106,
      "outputs": [
        {
          "output_type": "stream",
          "name": "stdout",
          "text": [
            "0.999493042617103\n",
            "1.99898608523421\n"
          ]
        }
      ]
    },
    {
      "cell_type": "code",
      "source": [
        "# Solution-3\n",
        "from math import pi\n",
        "pourRate = 314              # cubic meter per hour\n",
        "r_tank = 10                 # meter\n",
        "A_tank = pi* r_tank**2      # meter square\n",
        "del_h= pourRate/A_tank      # meter per hour\n",
        "print('The height of the crude oil is increasing at {} m per hour'.format(round(del_h,2)))\n",
        "print('The height of crude oil in the tank is {} m after 2 hours.'.format(round(del_h*2,2)))"
      ],
      "metadata": {
        "colab": {
          "base_uri": "https://localhost:8080/"
        },
        "id": "DYlmlVmZXSKf",
        "outputId": "3ffde568-464d-4ebd-a29e-038addff7305"
      },
      "execution_count": 107,
      "outputs": [
        {
          "output_type": "stream",
          "name": "stdout",
          "text": [
            "The height of the crude oil is increasing at 1.0 m per hour\n",
            "The height of crude oil in the tank is 2.0 m after 2 hours.\n"
          ]
        }
      ]
    }
  ]
}
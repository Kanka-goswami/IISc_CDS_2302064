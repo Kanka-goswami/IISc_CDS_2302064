{
  "nbformat": 4,
  "nbformat_minor": 0,
  "metadata": {
    "colab": {
      "provenance": [],
      "include_colab_link": true
    },
    "kernelspec": {
      "name": "python3",
      "display_name": "Python 3"
    }
  },
  "cells": [
    {
      "cell_type": "markdown",
      "metadata": {
        "id": "view-in-github",
        "colab_type": "text"
      },
      "source": [
        "<a href=\"https://colab.research.google.com/github/Kanka-goswami/IISc_CDS_2302064/blob/main/PNB_Numpy.ipynb\" target=\"_parent\"><img src=\"https://colab.research.google.com/assets/colab-badge.svg\" alt=\"Open In Colab\"/></a>"
      ]
    },
    {
      "cell_type": "markdown",
      "source": [
        "## Practice Notebook"
      ],
      "metadata": {
        "id": "pj9zUCIaV8-s"
      }
    },
    {
      "cell_type": "markdown",
      "metadata": {
        "id": "XaMNn3wLYPCp"
      },
      "source": [
        "### Introduction to Numpy\n",
        "NumPy (Numerical Python) is a python library for scientific computing, that provides high-performance vectors, matrices and higher-dimensional data structures for Python."
      ]
    },
    {
      "cell_type": "markdown",
      "metadata": {
        "id": "U2hvjYvI-PCp"
      },
      "source": [
        "## Numpy"
      ]
    },
    {
      "cell_type": "markdown",
      "metadata": {
        "id": "bFXr9Jw6thml"
      },
      "source": [
        "####  Exercise 1: Import the numpy package as np.\n",
        "\n",
        "Hint: use 'import … as …'"
      ]
    },
    {
      "cell_type": "code",
      "metadata": {
        "id": "IDOY6ZMvqLo8"
      },
      "source": [
        "import numpy as np"
      ],
      "execution_count": 1,
      "outputs": []
    },
    {
      "cell_type": "markdown",
      "metadata": {
        "id": "RK7s0EsTtnal"
      },
      "source": [
        "####  Exercise 2: Print the numpy version and the configuration.\n",
        "\n",
        "Hint: np.__version__, np.show_config"
      ]
    },
    {
      "cell_type": "code",
      "metadata": {
        "id": "JBcycyWLue6Z",
        "outputId": "c65675c3-ad38-454c-e59b-32d354132752",
        "colab": {
          "base_uri": "https://localhost:8080/"
        }
      },
      "source": [
        "np.version"
      ],
      "execution_count": 3,
      "outputs": [
        {
          "output_type": "execute_result",
          "data": {
            "text/plain": [
              "<module 'numpy.version' from '/usr/local/lib/python3.10/dist-packages/numpy/version.py'>"
            ]
          },
          "metadata": {},
          "execution_count": 3
        }
      ]
    },
    {
      "cell_type": "markdown",
      "metadata": {
        "id": "AeoNP5Cwughg"
      },
      "source": [
        "#### Exercise 3: Create an array of 10 zeros and 20 ones.\n",
        "\n",
        "Hint: np.zeros, np.ones"
      ]
    },
    {
      "cell_type": "code",
      "metadata": {
        "id": "iWQ0iMpwuhWx",
        "outputId": "c9ca33e4-0835-4efc-877f-6bb953325d7c",
        "colab": {
          "base_uri": "https://localhost:8080/"
        }
      },
      "source": [
        "arr_zero = np.zeros(10,dtype= int)\n",
        "arr_ones = np.ones(20, dtype= int)\n",
        "print('array of ten zeros :', arr_zero)\n",
        "print('array of twenty ones: ', arr_ones)"
      ],
      "execution_count": 6,
      "outputs": [
        {
          "output_type": "stream",
          "name": "stdout",
          "text": [
            "array of ten zeros : [0 0 0 0 0 0 0 0 0 0]\n",
            "array of twenty ones:  [1 1 1 1 1 1 1 1 1 1 1 1 1 1 1 1 1 1 1 1]\n"
          ]
        }
      ]
    },
    {
      "cell_type": "markdown",
      "metadata": {
        "id": "ka2AUzVQv804"
      },
      "source": [
        "####  Exercise 4: Create a vector with values ranging from 10 to 49.\n",
        "\n",
        "Hint: np.arange"
      ]
    },
    {
      "cell_type": "code",
      "metadata": {
        "id": "ZNwL2Ub5vuYk",
        "outputId": "9f9be1cf-665d-413a-d07d-b4620eef3b16",
        "colab": {
          "base_uri": "https://localhost:8080/"
        }
      },
      "source": [
        "v = np.arange(10,50, dtype= int)\n",
        "print('Vector ranging from 10 to 49:', v)"
      ],
      "execution_count": 8,
      "outputs": [
        {
          "output_type": "stream",
          "name": "stdout",
          "text": [
            "Vector ranging from 10 to 49: [10 11 12 13 14 15 16 17 18 19 20 21 22 23 24 25 26 27 28 29 30 31 32 33\n",
            " 34 35 36 37 38 39 40 41 42 43 44 45 46 47 48 49]\n"
          ]
        }
      ]
    },
    {
      "cell_type": "markdown",
      "metadata": {
        "id": "yAKm26J3wCgu"
      },
      "source": [
        "####  Exercise 5: Reverse a vector (first element becomes last).\n",
        "\n",
        "Hint: np.array[::-1]"
      ]
    },
    {
      "cell_type": "code",
      "metadata": {
        "id": "GOBhkidowD4c",
        "outputId": "5c481eff-3a11-425b-9aba-0b42f9b38f15",
        "colab": {
          "base_uri": "https://localhost:8080/"
        }
      },
      "source": [
        "v_reverse = v[::-1]\n",
        "print('Vector v reversed:', v_reverse)"
      ],
      "execution_count": 10,
      "outputs": [
        {
          "output_type": "stream",
          "name": "stdout",
          "text": [
            "Vector v reversed: [49 48 47 46 45 44 43 42 41 40 39 38 37 36 35 34 33 32 31 30 29 28 27 26\n",
            " 25 24 23 22 21 20 19 18 17 16 15 14 13 12 11 10]\n"
          ]
        }
      ]
    },
    {
      "cell_type": "markdown",
      "metadata": {
        "id": "Q_06mID8w4MW"
      },
      "source": [
        "####  Exercise 6: Find the indices of the non-zero elements from [1, 2, 0, 0,  4, 0].\n",
        "\n",
        "Hint: np.nonzero"
      ]
    },
    {
      "cell_type": "code",
      "metadata": {
        "id": "y_iT1Dy0w7Gi",
        "outputId": "e97c1c25-5d63-4d9b-9aea-d59175400252",
        "colab": {
          "base_uri": "https://localhost:8080/"
        }
      },
      "source": [
        "ls = [1,2,0,0,4,0]\n",
        "v1 = np.array(ls)\n",
        "print('Indices of nonzero elements in vector v1',v1.nonzero())"
      ],
      "execution_count": 12,
      "outputs": [
        {
          "output_type": "stream",
          "name": "stdout",
          "text": [
            "Indices of nonzero elements in vector v1 (array([0, 1, 4]),)\n"
          ]
        }
      ]
    },
    {
      "cell_type": "markdown",
      "metadata": {
        "id": "nVfeZNX3wGNb"
      },
      "source": [
        "####  Exercise 7: Create a 3x3 identity matrix.\n",
        "\n",
        "Hint: np.eye"
      ]
    },
    {
      "cell_type": "code",
      "metadata": {
        "id": "8k4ir6ahJYyO",
        "outputId": "94f381cb-2a59-44bc-8d52-0f3f2d03c871",
        "colab": {
          "base_uri": "https://localhost:8080/"
        }
      },
      "source": [
        "_3x3_identity_matrix = np.eye(3,3)\n",
        "print(_3x3_identity_matrix)"
      ],
      "execution_count": 16,
      "outputs": [
        {
          "output_type": "stream",
          "name": "stdout",
          "text": [
            "[[1. 0. 0.]\n",
            " [0. 1. 0.]\n",
            " [0. 0. 1.]]\n"
          ]
        }
      ]
    },
    {
      "cell_type": "markdown",
      "metadata": {
        "id": "TzHOcbSIxK6s"
      },
      "source": [
        "#### Exercise 7: Generate a random number between 0 and 1 using numpy.\n",
        "\n",
        "Hint: np.random.rand()"
      ]
    },
    {
      "cell_type": "code",
      "metadata": {
        "id": "2ZbT4b3XJZeK",
        "outputId": "84626c82-8488-4c45-ab3c-102a0cffdd91",
        "colab": {
          "base_uri": "https://localhost:8080/"
        }
      },
      "source": [
        "print(round(np.random.rand(),4))"
      ],
      "execution_count": 21,
      "outputs": [
        {
          "output_type": "stream",
          "name": "stdout",
          "text": [
            "0.7129\n"
          ]
        }
      ]
    },
    {
      "cell_type": "markdown",
      "metadata": {
        "id": "EgiUQA7QxUj2"
      },
      "source": [
        "####  Exercise 8: Create a 10x10 array with random values, find the minimum and the maximum values.\n",
        "\n",
        "Hint: min, max"
      ]
    },
    {
      "cell_type": "code",
      "metadata": {
        "id": "EX04NKRbJk2p",
        "outputId": "dad0571d-531b-402d-eed9-f5a1ebfc72c3",
        "colab": {
          "base_uri": "https://localhost:8080/"
        }
      },
      "source": [
        "M = np.random.rand(10,10)\n",
        "print(M.round(4))\n",
        "print(f'Maximum value in M:{round(M.max(),4)} and Minimum in M: {round(M.min(),4)}',4)"
      ],
      "execution_count": 40,
      "outputs": [
        {
          "output_type": "stream",
          "name": "stdout",
          "text": [
            "[[0.3623 0.8481 0.7964 0.4347 0.2627 0.911  0.9433 0.0995 0.598  0.8344]\n",
            " [0.5283 0.7326 0.1887 0.4827 0.1447 0.1905 0.2559 0.6411 0.7037 0.9198]\n",
            " [0.6192 0.6878 0.0323 0.667  0.3721 0.2618 0.8731 0.4464 0.4346 0.0226]\n",
            " [0.3709 0.7667 0.8496 0.0389 0.2068 0.6253 0.2517 0.2522 0.908  0.7137]\n",
            " [0.969  0.1708 0.0638 0.5155 0.755  0.4507 0.3109 0.5978 0.239  0.0121]\n",
            " [0.4934 0.7386 0.502  0.5694 0.694  0.23   0.4766 0.2214 0.1618 0.045 ]\n",
            " [0.2953 0.0605 0.6699 0.8687 0.8102 0.2927 0.2275 0.5643 0.538  0.5332]\n",
            " [0.9245 0.5426 0.6293 0.5221 0.9534 0.2482 0.8731 0.483  0.2096 0.2351]\n",
            " [0.6167 0.2334 0.3638 0.2595 0.3321 0.1346 0.3089 0.8922 0.1632 0.397 ]\n",
            " [0.1416 0.705  0.2186 0.3612 0.7366 0.0208 0.46   0.1027 0.9958 0.3355]]\n",
            "Maximum value in M:0.9958 and Minimum in M: 0.0121 4\n"
          ]
        }
      ]
    },
    {
      "cell_type": "markdown",
      "metadata": {
        "id": "5dPx9hY7xYJP"
      },
      "source": [
        "####  Exercise 9: Create a numpy array from the given `List`.\n",
        "\n",
        "Hint: np.array"
      ]
    },
    {
      "cell_type": "code",
      "metadata": {
        "id": "t9_k8sooJmJZ",
        "outputId": "bda6a8e7-e6f1-4057-c83c-060c00d83946",
        "colab": {
          "base_uri": "https://localhost:8080/"
        }
      },
      "source": [
        "ls1 = [2,5,3,7,3,0,0,1]\n",
        "print(np.array(ls1))"
      ],
      "execution_count": 28,
      "outputs": [
        {
          "output_type": "stream",
          "name": "stdout",
          "text": [
            "[2 5 3 7 3 0 0 1]\n"
          ]
        }
      ]
    },
    {
      "cell_type": "markdown",
      "metadata": {
        "id": "dp5BRXlMx6Fu"
      },
      "source": [
        "####  Exercise 10: Matrix multiplication for 1-D array.\n",
        "\n",
        "To multiply the matrix a and b.\n",
        "\n",
        "Hint: np.dot"
      ]
    },
    {
      "cell_type": "code",
      "metadata": {
        "id": "Q7F6olHUEfYT",
        "outputId": "a18f1710-9fae-4fb5-c39a-cb91c4b177aa",
        "colab": {
          "base_uri": "https://localhost:8080/"
        }
      },
      "source": [
        "a = np.array([9, 5, 7, 4])\n",
        "b = np.array([9, 5, 4, 3])\n",
        "\n",
        "print('scalar product:',np.dot(a,b))"
      ],
      "execution_count": 29,
      "outputs": [
        {
          "output_type": "stream",
          "name": "stdout",
          "text": [
            "scalar product: 146\n"
          ]
        }
      ]
    },
    {
      "cell_type": "markdown",
      "metadata": {
        "id": "MbR5BjJLKte-"
      },
      "source": [
        "####  Exercise 11: Transpose the given array [ [ 1, 2, 3], [ 4, 5, 6],  [ 7, 8, 9], [10, 11, 12] ].\n",
        "Hint: np.transpose( )"
      ]
    },
    {
      "cell_type": "code",
      "metadata": {
        "id": "L5h9uKpzKx1o",
        "outputId": "21041bbd-6680-4682-f8d9-40040aa7fabd",
        "colab": {
          "base_uri": "https://localhost:8080/"
        }
      },
      "source": [
        "M1 = np.array([[1,2,3],[4,5,6],[7,8,9],[10,11,12]])\n",
        "print('M1\\n',M1)\n",
        "print('Transposed M:\\n', M1.transpose())"
      ],
      "execution_count": 35,
      "outputs": [
        {
          "output_type": "stream",
          "name": "stdout",
          "text": [
            "M1\n",
            " [[ 1  2  3]\n",
            " [ 4  5  6]\n",
            " [ 7  8  9]\n",
            " [10 11 12]]\n",
            "Transposed M:\n",
            " [[ 1  4  7 10]\n",
            " [ 2  5  8 11]\n",
            " [ 3  6  9 12]]\n"
          ]
        }
      ]
    },
    {
      "cell_type": "markdown",
      "metadata": {
        "id": "TqTdqi0qLPzM"
      },
      "source": [
        "####  Exercise 12: Given an array *A*, calculate the square root of the elements in it.\n",
        "\n",
        "Hint: np.sqrt( )"
      ]
    },
    {
      "cell_type": "code",
      "metadata": {
        "id": "YevrEXCILv2u",
        "outputId": "bd6235ff-a5f6-4282-f4b6-eb3b0bf19f65",
        "colab": {
          "base_uri": "https://localhost:8080/"
        }
      },
      "source": [
        "A = np.arange(1,20)\n",
        "\n",
        "print('square root elementwise of A: \\n', np.sqrt(A).round(4))"
      ],
      "execution_count": 39,
      "outputs": [
        {
          "output_type": "stream",
          "name": "stdout",
          "text": [
            "square root elementwise of A: \n",
            " [1.     1.4142 1.7321 2.     2.2361 2.4495 2.6458 2.8284 3.     3.1623\n",
            " 3.3166 3.4641 3.6056 3.7417 3.873  4.     4.1231 4.2426 4.3589]\n"
          ]
        }
      ]
    },
    {
      "cell_type": "markdown",
      "metadata": {
        "id": "-xAt-FKUM7eF"
      },
      "source": [
        "#### Exercise 13: Concatenate two numpy arrays columnwise  by specifying axis = 1.\n",
        "Hint: np.concatenate( )"
      ]
    },
    {
      "cell_type": "code",
      "metadata": {
        "id": "b8KKeA8HNHWE",
        "outputId": "6f189032-d1f7-42e7-b299-e54516754d19",
        "colab": {
          "base_uri": "https://localhost:8080/"
        }
      },
      "source": [
        "c =np.array([[1,2],[3,4]])\n",
        "d =np.array([[5,6],[7,8]])\n",
        "print('(c,d) concatenated on axis=0:\\n',np.concatenate((c,d),axis=0))\n",
        "print('(c,d) concatenated on axis=1:\\n',np.concatenate((c,d),axis=1))"
      ],
      "execution_count": 50,
      "outputs": [
        {
          "output_type": "stream",
          "name": "stdout",
          "text": [
            "(c,d) concatenated on axis=0:\n",
            " [[1 2]\n",
            " [3 4]\n",
            " [5 6]\n",
            " [7 8]]\n",
            "(c,d) concatenated on axis=1:\n",
            " [[1 2 5 6]\n",
            " [3 4 7 8]]\n"
          ]
        }
      ]
    },
    {
      "cell_type": "markdown",
      "metadata": {
        "id": "Rbt3-28YOKIl"
      },
      "source": [
        "#### Exercise 14: Print the second and the third column for the given multidimensional array.\n"
      ]
    },
    {
      "cell_type": "code",
      "metadata": {
        "id": "6hJct3wLQMzL",
        "outputId": "d6448395-6d23-4677-b0f5-2caa96f1e043",
        "colab": {
          "base_uri": "https://localhost:8080/"
        }
      },
      "source": [
        "a = np.array([[2, 4, 6, 8, 10],\n",
        "              [3, 6, 9, 12, 15],\n",
        "              [4, 8, 12, 16, 20]])\n",
        "print(a[:,1:3])"
      ],
      "execution_count": 52,
      "outputs": [
        {
          "output_type": "stream",
          "name": "stdout",
          "text": [
            "[[ 4  6]\n",
            " [ 6  9]\n",
            " [ 8 12]]\n"
          ]
        }
      ]
    },
    {
      "cell_type": "markdown",
      "metadata": {
        "id": "C9ZyeDhBQYpv"
      },
      "source": [
        "####  Exercise 15: For the given multidimensional array:\n",
        "1. Calculate the mean row wise by specifying axis = 0 and column wise by specifying axis =1.\n",
        "2. What is the average value of an array?"
      ]
    },
    {
      "cell_type": "code",
      "metadata": {
        "id": "xfS6nsFlkyDw",
        "outputId": "b24c4afb-0412-4d96-ade2-2dde020dd756",
        "colab": {
          "base_uri": "https://localhost:8080/"
        }
      },
      "source": [
        "# 2D array\n",
        "array = np.array([[2, 4, 6, 8, 10],\n",
        "              [3, 6, 9, 12, 15],\n",
        "              [4, 8, 12, 16, 20]])\n",
        "print('row wise mean of array witn axis=0:\\n',np.mean(array,axis=0, dtype= int))\n",
        "print('row wise mean of array witn axis=1:\\n',np.mean(array,axis=1, dtype=int))"
      ],
      "execution_count": 60,
      "outputs": [
        {
          "output_type": "stream",
          "name": "stdout",
          "text": [
            "row wise mean of array witn axis=0:\n",
            " [ 3  6  9 12 15]\n",
            "row wise mean of array witn axis=1:\n",
            " [ 6  9 12]\n"
          ]
        }
      ]
    },
    {
      "cell_type": "code",
      "source": [
        "# calculating the average value\n",
        "array.mean()"
      ],
      "metadata": {
        "id": "Wcd-1l8quyVV",
        "outputId": "7518ee4e-a1bb-4681-d1ca-46ac10fb1f3d",
        "colab": {
          "base_uri": "https://localhost:8080/"
        }
      },
      "execution_count": 62,
      "outputs": [
        {
          "output_type": "execute_result",
          "data": {
            "text/plain": [
              "9.0"
            ]
          },
          "metadata": {},
          "execution_count": 62
        }
      ]
    },
    {
      "cell_type": "markdown",
      "metadata": {
        "id": "iM4ALiSdn5dR"
      },
      "source": [
        "#### Exercise 16: Create an array of all the even numbers from 30 to 70."
      ]
    },
    {
      "cell_type": "code",
      "metadata": {
        "id": "-Nk18AU7n-jG",
        "outputId": "bf92aa24-dc06-438d-c4ef-2f7004e2e36c",
        "colab": {
          "base_uri": "https://localhost:8080/"
        }
      },
      "source": [
        "even_array = np.arange(30,71,2)\n",
        "print(even_array)"
      ],
      "execution_count": 64,
      "outputs": [
        {
          "output_type": "stream",
          "name": "stdout",
          "text": [
            "[30 32 34 36 38 40 42 44 46 48 50 52 54 56 58 60 62 64 66 68 70]\n"
          ]
        }
      ]
    },
    {
      "cell_type": "markdown",
      "metadata": {
        "id": "4dk-KHVD6AGF"
      },
      "source": [
        "#### Exercise 17: For the given array, get the slice of the first row and print them."
      ]
    },
    {
      "cell_type": "code",
      "metadata": {
        "id": "aQ_1ZMEuGzFE",
        "outputId": "b21298fd-1a10-4d74-ab81-1516c0e4059b",
        "colab": {
          "base_uri": "https://localhost:8080/"
        }
      },
      "source": [
        "a3 = np.array([[[10, 11, 12], [13, 14, 15], [16, 17, 18]],\n",
        "               [[20, 21, 22], [23, 24, 25], [26, 27, 28]],\n",
        "               [[30, 31, 32], [33, 34, 35], [36, 37, 38]]])\n",
        "\n",
        "print(a3[0][:][:])"
      ],
      "execution_count": 68,
      "outputs": [
        {
          "output_type": "stream",
          "name": "stdout",
          "text": [
            "[[10 11 12]\n",
            " [13 14 15]\n",
            " [16 17 18]]\n"
          ]
        }
      ]
    }
  ]
}
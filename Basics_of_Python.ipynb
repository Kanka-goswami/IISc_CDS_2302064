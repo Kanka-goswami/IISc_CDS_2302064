{
  "nbformat": 4,
  "nbformat_minor": 0,
  "metadata": {
    "colab": {
      "provenance": [],
      "toc_visible": true,
      "authorship_tag": "ABX9TyNCO027OrAHI2PHvWx5kcnW"
    },
    "kernelspec": {
      "name": "python3",
      "display_name": "Python 3"
    },
    "language_info": {
      "name": "python"
    }
  },
  "cells": [
    {
      "cell_type": "markdown",
      "source": [
        "# Google Colab and Github repository setup\n",
        "The idea is to built-up a portfolio and make an online repositoty for projects that are attempted in this course. In future, the aim is to develop on this code and create a better version.\n",
        "\n",
        "I have created my own [github repository](https://github.com/Kanka-goswami/IISc_CDS_2302064) where the notebook would be saved. The following steps helps you save your project to github. Deiscription in [link](https://bebi103a.github.io/lessons/02/git_with_colab.html)\n",
        "1. Setup GitHub access in colab\n",
        "2. Pushing your notebook to the repository To do so from within a Colab notebook, click File --> Save a copy in GitHub . You will be prompted to add a commit message, and after you click OK , the notebook will be pushed to your repository.\n"
      ],
      "metadata": {
        "id": "EAEKNExfSGzj"
      }
    },
    {
      "cell_type": "markdown",
      "source": [
        "# Python basics"
      ],
      "metadata": {
        "id": "eR9g0F4SWH-D"
      }
    },
    {
      "cell_type": "code",
      "execution_count": null,
      "metadata": {
        "id": "-nIaKQ6OMRuP"
      },
      "outputs": [],
      "source": []
    }
  ]
}
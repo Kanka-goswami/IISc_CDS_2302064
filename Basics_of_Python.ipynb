{
  "nbformat": 4,
  "nbformat_minor": 0,
  "metadata": {
    "colab": {
      "provenance": [],
      "toc_visible": true,
      "authorship_tag": "ABX9TyOf5I3Yn6qtninBjVRsXl9R",
      "include_colab_link": true
    },
    "kernelspec": {
      "name": "python3",
      "display_name": "Python 3"
    },
    "language_info": {
      "name": "python"
    }
  },
  "cells": [
    {
      "cell_type": "markdown",
      "metadata": {
        "id": "view-in-github",
        "colab_type": "text"
      },
      "source": [
        "<a href=\"https://colab.research.google.com/github/Kanka-goswami/IISc_CDS_2302064/blob/main/Basics_of_Python.ipynb\" target=\"_parent\"><img src=\"https://colab.research.google.com/assets/colab-badge.svg\" alt=\"Open In Colab\"/></a>"
      ]
    },
    {
      "cell_type": "markdown",
      "source": [
        "# Google Colab and Github repository setup\n",
        "The idea is to built-up a portfolio and make an online repositoty for projects that are attempted in this course. In future, the aim is to develop on this code and create a better version.\n",
        "\n",
        "I have created my own [github repository](https://github.com/Kanka-goswami/IISc_CDS_2302064) where the notebook would be saved. The following steps helps you save your project to github. Deiscription in [link](https://bebi103a.github.io/lessons/02/git_with_colab.html)\n",
        "1. Setup GitHub access in colab\n",
        "2. Pushing your notebook to the repository To do so from within a Colab notebook, click File --> Save a copy in GitHub . You will be prompted to add a commit message, and after you click OK , the notebook will be pushed to your repository.\n"
      ],
      "metadata": {
        "id": "EAEKNExfSGzj"
      }
    },
    {
      "cell_type": "markdown",
      "source": [
        "# Python basics\n",
        "This is a self-pased learning notebook where, I take notes and experiment with python codes.\n"
      ],
      "metadata": {
        "id": "eR9g0F4SWH-D"
      }
    },
    {
      "cell_type": "markdown",
      "source": [
        "## Data types in Python\n",
        "Python is a _Dynamic Typing_ programming language. We dont have to declare a variable before assigning its data types.\n",
        "\n",
        "The data types in python are\n",
        "- numeric\n",
        " - integers\n",
        " - float\n",
        " - complex\n",
        "- sequence\n",
        "  - string\n",
        "  - lists\n",
        "  - tuples\n",
        "- boolean\n",
        "- sets\n",
        "- dictionary"
      ],
      "metadata": {
        "id": "90L_oL1CPT3n"
      }
    },
    {
      "cell_type": "code",
      "execution_count": 30,
      "metadata": {
        "colab": {
          "base_uri": "https://localhost:8080/"
        },
        "id": "-nIaKQ6OMRuP",
        "outputId": "150b6376-f68d-4a6a-ca10-918f71319ebf"
      },
      "outputs": [
        {
          "output_type": "stream",
          "name": "stdout",
          "text": [
            "\n",
            "a is  <class 'int'> with a value 5 \n",
            "b is  <class 'float'> with a value 2.0 \n",
            "c is  <class 'complex'> defined using complex(3,4) (3+4j) \n",
            "d is  <class 'complex'> defined using z= a+bj (1+5j)\n"
          ]
        }
      ],
      "source": [
        "# EXAMPLES OF NUMERIC DATA TYPES IN PYTHON\n",
        "a = 5\n",
        "b = 2.0\n",
        "c=complex(3,4)\n",
        "d = 1 + 5j\n",
        "print('\\na is ',type(a),'with a value',a,\n",
        "      '\\nb is ',type(b),'with a value',b,\n",
        "      '\\nc is ',type(c),'defined using complex(3,4)',c,\n",
        "      '\\nd is ',type(d),'defined using z= a+bj',d\n",
        "      )"
      ]
    },
    {
      "cell_type": "code",
      "source": [
        "# EXAMPLES OF SEQUENCE DATA TYPES IN PYTHON\n",
        "s1 = 'vowels'\n",
        "s2 = [1,2,3]\n",
        "s3 = ['v','o','w','e','l','s']\n",
        "s4 = (1,4)\n",
        "s5 = (1,'vowels')\n",
        "print('\\ns1 is ',type(s1),'defined using single quotes as:', s1,\n",
        "      '\\ns2 is ',type(s2),'defined by number and []:',s2,\n",
        "      '\\ns3 is ',type(s3),'defined using strings and []:',s3,\n",
        "      '\\ns4 is ',type(s4),'defined using numbers in parenthesis ()',s4,\n",
        "      '\\ns5 is ',type(s5),'defined using both strings and numbers',s5,\n",
        "      )\n",
        "# the list and tuples can be used as lists of lists or Lists of tuples\n",
        "s7 = [[1,2],[3,4],[5,6]]\n",
        "s8 = [(1,2),(3,4)]\n",
        "s9 = ([1,2],[3,4],[5,6])\n",
        "sA = ((1,2),[3,4])\n",
        "sB = [(1,2),[3,4]]\n",
        "print('\\ns7 is ',type(s7),'is list of lists',s7,\n",
        "      '\\ns8 is ',type(s8),'is list of tuples',s8,\n",
        "      '\\ns9 is ',type(s9),'is tuple of lists',s9,\n",
        "      '\\nsA is ',type(sA),'is tuple of tuples',sA,\n",
        "      '\\nsB is ',type(sB),'is list of tuple and list',sB,\n",
        "      )"
      ],
      "metadata": {
        "colab": {
          "base_uri": "https://localhost:8080/"
        },
        "id": "QShT76mu1mBH",
        "outputId": "0397bfac-b5a7-4f8d-e78e-771ea812240b"
      },
      "execution_count": 35,
      "outputs": [
        {
          "output_type": "stream",
          "name": "stdout",
          "text": [
            "\n",
            "s1 is  <class 'str'> defined using single quotes as: vowels \n",
            "s2 is  <class 'list'> defined by number and []: [1, 2, 3] \n",
            "s3 is  <class 'list'> defined using strings and []: ['v', 'o', 'w', 'e', 'l', 's'] \n",
            "s4 is  <class 'tuple'> defined using numbers in parenthesis () (1, 4) \n",
            "s5 is  <class 'tuple'> defined using both strings and numbers (1, 'vowels')\n",
            "\n",
            "s7 is  <class 'list'> is list of lists [[1, 2], [3, 4], [5, 6]] \n",
            "s8 is  <class 'list'> is list of tuples [(1, 2), (3, 4)] \n",
            "s9 is  <class 'tuple'> is tuple of lists ([1, 2], [3, 4], [5, 6]) \n",
            "sA is  <class 'tuple'> is tuple of tuples ((1, 2), [3, 4]) \n",
            "sB is  <class 'list'> is list of tuple and list [(1, 2), [3, 4]]\n"
          ]
        }
      ]
    },
    {
      "cell_type": "code",
      "source": [
        "# EXAMPLES OF BOOLEAN DATA TYPES IN PYTHON\n",
        "b1 = True\n",
        "b2 = False\n",
        "print(\n",
        "    '\\nb1 is', type(b1), 'defined as', b1,\n",
        "    '\\nb2 is , type(b2),'having boolean value', b2,\n",
        "    '\\nNote – True and False with capital ‘T’ and ‘F’ are valid booleans otherwise python will throw an error.'\n",
        ")"
      ],
      "metadata": {
        "colab": {
          "base_uri": "https://localhost:8080/"
        },
        "id": "Oy8OSoaC4nPT",
        "outputId": "304f3228-0818-4a46-adf9-a62cde5dc5d4"
      },
      "execution_count": 24,
      "outputs": [
        {
          "output_type": "stream",
          "name": "stdout",
          "text": [
            "\n",
            "b1 is  <class 'bool'> defined as True \n",
            "b2 is  <class 'bool'> having boolean value False \n",
            "Note – True and False with capital ‘T’ and ‘F’ are valid booleans otherwise python will throw an error.\n"
          ]
        }
      ]
    },
    {
      "cell_type": "code",
      "source": [
        "# EXAMPLES OF SET DATA TYPES IN PYTHON\n",
        "S0 = set()\n",
        "S1 = set('PythonSetDataType')\n",
        "S2 = set(s3) # set of list s3 defined under sequence data type\n",
        "S3 = {'A','E','IOU'}\n",
        "print(\n",
        "    '\\nS0 is', type(S0), 'which is an empty:', S0,\n",
        "    '\\nS1 is', type(S1), 'defined as:', S1,\n",
        "    '\\nS2 is', type(S2), ' made using a list:', S2,\n",
        "    '\\nS3 is a',type(S3), 'constructed using {}:',S3\n",
        ")"
      ],
      "metadata": {
        "colab": {
          "base_uri": "https://localhost:8080/"
        },
        "id": "emeV9FQ_9qm-",
        "outputId": "1760b484-2bf7-4ed8-a592-4e7d6fd76f41"
      },
      "execution_count": 28,
      "outputs": [
        {
          "output_type": "stream",
          "name": "stdout",
          "text": [
            "\n",
            "S0 is <class 'set'> which is an empty: set() \n",
            "S1 is <class 'set'> defined as: {'o', 'a', 't', 'D', 'y', 'e', 'T', 'h', 'S', 'p', 'P', 'n'} \n",
            "S2 is <class 'set'>  made using a list: {'o', 's', 'l', 'e', 'w', 'v'} \n",
            "S3 is a <class 'set'> constructed using {}: {'E', 'IOU', 'A'}\n"
          ]
        }
      ]
    },
    {
      "cell_type": "code",
      "source": [
        "# EXAMPLES OF DICTIONARY DATA TYPES IN PYTHON\n",
        "dict_1 = dict()\n",
        "dict_2 = dict({1:'Python',2:'of',3:'Basics'})\n",
        "dict_3 = {1:'Python',2:'of',3:'Basics'}\n",
        "dict_4 = dict([(1,'A'),(2,'B'),(3,'C')])\n",
        "print(\n",
        "    '\\ndict_1 is an empty', type(dict_1), 'constructed using method dict()', dict_1,\n",
        "    '\\ndict_2 is a', type(dict_2), 'defined using method dict() and passing {}', dict_2,\n",
        "    '\\ndict_3 is a', type(dict_3), 'defined using {} as: ',dict_3,\n",
        "    '\\ndict_4 is a', type(dict_4), 'defiend by list of tuples as: ',dict_4,\n",
        ")"
      ],
      "metadata": {
        "colab": {
          "base_uri": "https://localhost:8080/"
        },
        "id": "sZKjTfsWGCxe",
        "outputId": "2ca68f03-8803-4b90-d85e-2243279b3d59"
      },
      "execution_count": 41,
      "outputs": [
        {
          "output_type": "stream",
          "name": "stdout",
          "text": [
            "\n",
            "dict_1 is an empty <class 'dict'> constructed using method dict() {} \n",
            "dict_2 is a <class 'dict'> defined using method dict() and passing {} {1: 'Python', 2: 'of', 3: 'Basics'} \n",
            "dict_3 is a <class 'dict'> defined using {} as:  {1: 'Python', 2: 'of', 3: 'Basics'} \n",
            "dict_4 is a <class 'dict'> defiend by list of tuples as:  {1: 'A', 2: 'B', 3: 'C'}\n"
          ]
        }
      ]
    },
    {
      "cell_type": "markdown",
      "source": [
        "## Operators in Python\n",
        "Operators carry out Arithmatic or Logical operations\n",
        "$$Example:\n",
        "5 + 4 = 9;$$\n",
        "Here *5* and *4* are called _operands_ and _+_ is the operator.\n",
        "\n",
        "The following are the list of operators in Python\n",
        "- Arithmatic operators\n",
        "- Logical (Boolean) operators\n",
        "- Comparison operators\n",
        "- Bitwise operators\n",
        "- Assignment operators\n",
        "- Identity operators\n",
        "- Membership operators\n"
      ],
      "metadata": {
        "id": "zHW1i8e0NYpF"
      }
    },
    {
      "cell_type": "code",
      "source": [
        "# ARITHMATIC OPERATORS\n",
        "print(\n",
        "    '\\nAddition: 4.75 + 5.25 = ', 4.75 + 5.25,\n",
        "    '\\nSubtraction: 4.75 - 5.25 = ', 4.75 - 5.25,\n",
        "    '\\nMultiplication: 4.75 * 5.25 = ', 4.75 * 5.25,\n",
        "    '\\nDivision (float): 4.75 / 5.25 = ', 4.75 / 5.25,\n",
        "    '\\nDivision (floor): 4.75 // 5.25 = ', 4.75 // 5.25,\n",
        "    '\\nModulus (returns the remainder of the division): 4.75 % 5.25= ', 4.75 % 5.25,\n",
        "    '\\nPower: 4.75 ** 5.25 = ', 4.75 ** 5.25,\n",
        "\n",
        ")\n"
      ],
      "metadata": {
        "colab": {
          "base_uri": "https://localhost:8080/"
        },
        "id": "PtwZ5o8OP-UY",
        "outputId": "25b26472-d2f9-461c-d322-b23476f4d676"
      },
      "execution_count": 44,
      "outputs": [
        {
          "output_type": "stream",
          "name": "stdout",
          "text": [
            "\n",
            "Addition: 4.75 + 5.25 =  10.0 \n",
            "Subtraction: 4.75 - 5.25 =  -0.5 \n",
            "Multiplication: 4.75 * 5.25 =  24.9375 \n",
            "Division (float): 4.75 / 5.25 =  0.9047619047619048 \n",
            "Division (floor): 4.75 // 5.25 =  0.0 \n",
            "Modulus (returns the remainder of the division): 4.75 % 5.25=  4.75 \n",
            "Power: 4.75 ** 5.25 =  3569.7799875751616\n"
          ]
        }
      ]
    },
    {
      "cell_type": "markdown",
      "source": [
        "Precedance of the arithmatic operators\n",
        "1. P - Parentheses\n",
        "2. E - Exponentiation\n",
        "3. M - Multiplication (Multiplication and division have the same precedence)\n",
        "4. D - Division\n",
        "5. A - Addition (Addition and subtraction have the same precedence)\n",
        "6. S - Subtraction\n"
      ],
      "metadata": {
        "id": "VOc8lMZEozQo"
      }
    },
    {
      "cell_type": "code",
      "source": [
        "# LOGICAL OPERATORS\n",
        "print(\n",
        "    '\\nLet a = True, b = False',\n",
        "    '\\nLogical And: a and b = ', True and False,\n",
        "    '\\nLogical Or: a or b = ', True or False,\n",
        "    '\\nLogical not: not a is ', not True,\n",
        ")"
      ],
      "metadata": {
        "colab": {
          "base_uri": "https://localhost:8080/"
        },
        "id": "AFfCmxLvoItg",
        "outputId": "22fef392-b753-41e5-bb20-ddbe73503a9e"
      },
      "execution_count": 45,
      "outputs": [
        {
          "output_type": "stream",
          "name": "stdout",
          "text": [
            "\n",
            "Let a = True, b = False \n",
            "Logical And: a and b =  False \n",
            "Logical Or: a or b =  True \n",
            "Logical not: not a is  False\n"
          ]
        }
      ]
    },
    {
      "cell_type": "code",
      "source": [
        "# COMPARASION OPERATORS or RELATIONAL OPERATORS\n",
        "m = 35\n",
        "n = 55\n",
        "print(\n",
        "    '\\n m =',m,\n",
        "    '\\n n =',n,\n",
        "    '\\nGreater than > : m > n is:', m > n,\n",
        "    '\\nLess than < : m < n is: ', m < n,\n",
        "    '\\nEqual to == : m == n is:', m==n,\n",
        "    '\\nNot equal to !=: m != n is:', m!=n,\n",
        "    '\\nGreater than equal >=: m >= n is:', m >= n,\n",
        "    '\\nLess than equal <=: m <= n is', m <= n,\n",
        "\n",
        ")"
      ],
      "metadata": {
        "colab": {
          "base_uri": "https://localhost:8080/"
        },
        "id": "NcJNNkta001n",
        "outputId": "6ba2f6ec-bc0a-42a9-f745-86b3f166f760"
      },
      "execution_count": 47,
      "outputs": [
        {
          "output_type": "stream",
          "name": "stdout",
          "text": [
            "\n",
            " m = 35 \n",
            " n = 55 \n",
            "Greater than > : m > n is: False \n",
            "Less than < : m < n is:  True \n",
            "Equal to == : m == n is: False \n",
            "Not equal to !=: m != n is: True \n",
            "Greater than equal >=: m >= n is: False \n",
            "Less than equal <=: m <= n is True\n"
          ]
        }
      ]
    },
    {
      "cell_type": "markdown",
      "source": [
        "Precedence of comparison operator is lower than arithmatic operator in Python."
      ],
      "metadata": {
        "id": "OsfWetMMCbZx"
      }
    },
    {
      "cell_type": "code",
      "source": [],
      "metadata": {
        "id": "GUsVESYD04SJ"
      },
      "execution_count": null,
      "outputs": []
    }
  ]
}